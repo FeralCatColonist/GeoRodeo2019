{
 "cells": [
  {
   "cell_type": "markdown",
   "metadata": {
    "slideshow": {
     "slide_type": "slide"
    }
   },
   "source": [
    "# Integrating Google Sheets to an Esri SDE Feature Class\n",
    "## Collaborative Data-Entry for non-GIS Users\n",
    "***\n",
    "> Jordan Carmona, GISP <br>\n",
    "> City of McKinney, Texas <br>\n",
    "> jcarmona@mckinneytexas.org <br>\n",
    "> linkedin.com/in/jordancarmona"
   ]
  },
  {
   "cell_type": "markdown",
   "metadata": {
    "slideshow": {
     "slide_type": "subslide"
    }
   },
   "source": [
    "### Wrangling data from non-database sources manually?"
   ]
  },
  {
   "cell_type": "markdown",
   "metadata": {
    "slideshow": {
     "slide_type": "fragment"
    }
   },
   "source": [
    "- time-consuming\n",
    "- frustrating\n",
    "- untenable"
   ]
  },
  {
   "cell_type": "markdown",
   "metadata": {
    "slideshow": {
     "slide_type": "subslide"
    }
   },
   "source": [
    "### Google Sheets"
   ]
  },
  {
   "cell_type": "markdown",
   "metadata": {
    "slideshow": {
     "slide_type": "fragment"
    }
   },
   "source": [
    "$+$ Collaborative <br>\n",
    "$+$ Real-Time <br>\n",
    "$+$ Web-Based <br>"
   ]
  },
  {
   "cell_type": "markdown",
   "metadata": {
    "slideshow": {
     "slide_type": "fragment"
    }
   },
   "source": [
    "$-$ Cumbersome to Export <br>"
   ]
  },
  {
   "cell_type": "markdown",
   "metadata": {
    "slideshow": {
     "slide_type": "subslide"
    }
   },
   "source": [
    "### Esri SDE"
   ]
  },
  {
   "cell_type": "markdown",
   "metadata": {
    "slideshow": {
     "slide_type": "fragment"
    }
   },
   "source": [
    "$+$ Collaborative <br>\n",
    "$+$ Real-Time <br>\n",
    "$+$ Native GIS <br>"
   ]
  },
  {
   "cell_type": "markdown",
   "metadata": {
    "slideshow": {
     "slide_type": "fragment"
    }
   },
   "source": [
    "$-$ \"Hard\" to Script Against? <br>"
   ]
  },
  {
   "cell_type": "markdown",
   "metadata": {
    "slideshow": {
     "slide_type": "slide"
    }
   },
   "source": [
    "### This presentation demonstrates: \n",
    "# <center> Google Sheet  &#8594;  Esri SDE"
   ]
  },
  {
   "cell_type": "markdown",
   "metadata": {
    "slideshow": {
     "slide_type": "slide"
    }
   },
   "source": [
    "# <center> House-Keeping"
   ]
  },
  {
   "cell_type": "markdown",
   "metadata": {
    "slideshow": {
     "slide_type": "subslide"
    }
   },
   "source": [
    "## Necessary Libraries"
   ]
  },
  {
   "cell_type": "code",
   "execution_count": 1,
   "metadata": {
    "slideshow": {
     "slide_type": "fragment"
    }
   },
   "outputs": [
    {
     "name": "stdout",
     "output_type": "stream",
     "text": [
      "We can run fun code!\n"
     ]
    }
   ],
   "source": [
    "import pandas as pd        #used for ingesting our Google Sheet\n",
    "import numpy as np         #used for converting to an Esri Table\n",
    "import arcpy               #used in the ArcGIS environment\n",
    "import datetime            #used for timestamps\n",
    "import time                #used for timers and sleeping\n",
    "import os                  #used for making file paths\n",
    "import tempfile            #used for creating a temporary file location\n",
    "import shutil              #used for closing our temporary file location\n",
    "import traceback           #used for error messaging\n",
    "print(\"We can run fun code!\")"
   ]
  },
  {
   "cell_type": "markdown",
   "metadata": {
    "slideshow": {
     "slide_type": "subslide"
    }
   },
   "source": [
    "## Methods"
   ]
  },
  {
   "cell_type": "code",
   "execution_count": 2,
   "metadata": {
    "slideshow": {
     "slide_type": "fragment"
    }
   },
   "outputs": [
    {
     "name": "stdout",
     "output_type": "stream",
     "text": [
      "Definition\n"
     ]
    }
   ],
   "source": [
    "def auto_truncate(val):\n",
    "    return val[:255]\n",
    "\n",
    "def write_to_log(content):\n",
    "    log_time = datetime.datetime.now()\n",
    "    with open(r\"C:\\Users\\jcarmona\\Desktop\\SCAUG 2019 PRESENTATION\\Presentation_log.txt\", \"a\") as log_file:\n",
    "        log_file.write(f\"\\n{log_time.strftime('%Y-%m-%d %H:%M:%S')} --- {content}\")\n",
    "        \n",
    "print(\"Definition\")"
   ]
  },
  {
   "cell_type": "markdown",
   "metadata": {
    "slideshow": {
     "slide_type": "subslide"
    }
   },
   "source": [
    "## Timers are Great"
   ]
  },
  {
   "cell_type": "code",
   "execution_count": 2,
   "metadata": {
    "slideshow": {
     "slide_type": "fragment"
    }
   },
   "outputs": [],
   "source": [
    "starttime = time.time() #goes at the beginning of your code"
   ]
  },
  {
   "cell_type": "code",
   "execution_count": 3,
   "metadata": {
    "slideshow": {
     "slide_type": "fragment"
    }
   },
   "outputs": [],
   "source": [
    "endtime = time.time() - starttime #goes at the end of your code"
   ]
  },
  {
   "cell_type": "code",
   "execution_count": 4,
   "metadata": {
    "slideshow": {
     "slide_type": "fragment"
    }
   },
   "outputs": [
    {
     "name": "stdout",
     "output_type": "stream",
     "text": [
      "This process took 12.320127248764038 seconds\n",
      "This process took 12.32 seconds\n"
     ]
    }
   ],
   "source": [
    "print(f\"This process took {endtime} seconds\") #these are F-strings \n",
    "print(f\"This process took {round(endtime,2)} seconds\") #the \"F\" is for FUN-ction."
   ]
  },
  {
   "cell_type": "code",
   "execution_count": 5,
   "metadata": {
    "slideshow": {
     "slide_type": "fragment"
    }
   },
   "outputs": [
    {
     "name": "stdout",
     "output_type": "stream",
     "text": [
      "This process took 0.0 minutes and 12.3 seconds\n"
     ]
    }
   ],
   "source": [
    "print(f\"This process took {endtime // 60} minutes and {round((endtime % 60),1)} seconds\")"
   ]
  },
  {
   "cell_type": "markdown",
   "metadata": {
    "slideshow": {
     "slide_type": "slide"
    }
   },
   "source": [
    "# <center> Code Part I"
   ]
  },
  {
   "cell_type": "markdown",
   "metadata": {
    "slideshow": {
     "slide_type": "fragment"
    }
   },
   "source": [
    "## <center> <i>Wrangling</i>&nbsp;&nbsp;the Google Sheet"
   ]
  },
  {
   "cell_type": "markdown",
   "metadata": {
    "slideshow": {
     "slide_type": "fragment"
    }
   },
   "source": [
    "#### <br>\n",
    "#### <center> Accessing the Google Sheet Programatically\n",
    "#### <center> Cleaning the Google Sheet"
   ]
  },
  {
   "cell_type": "markdown",
   "metadata": {
    "slideshow": {
     "slide_type": "subslide"
    }
   },
   "source": [
    "## Accessing the Google Sheet Programatically"
   ]
  },
  {
   "attachments": {
    "googsheet_cipteam02.png": {
     "image/png": "[encoded data removed]"
    }
   },
   "cell_type": "markdown",
   "metadata": {
    "slideshow": {
     "slide_type": "subslide"
    }
   },
   "source": [
    "![googsheet_cipteam02.png](attachment:googsheet_cipteam02.png)"
   ]
  },
  {
   "attachments": {
    "image_GoogleSheet.PNG": {
     "image/png": "[encoded data removed]"
    }
   },
   "cell_type": "markdown",
   "metadata": {
    "slideshow": {
     "slide_type": "subslide"
    }
   },
   "source": [
    "![image_GoogleSheet.PNG](attachment:image_GoogleSheet.PNG)"
   ]
  },
  {
   "cell_type": "markdown",
   "metadata": {
    "slideshow": {
     "slide_type": "subslide"
    }
   },
   "source": [
    "Normal Google URL: <i> https://docs.google.com/spreadsheets/d/1QB1pZQ3CN45ZYS2sc4LnuoOaImL5lQsP-ObWNQW5FjY/edit#gid=0 </i>"
   ]
  },
  {
   "cell_type": "markdown",
   "metadata": {
    "slideshow": {
     "slide_type": "fragment"
    }
   },
   "source": [
    "The magic is right at the end:"
   ]
  },
  {
   "cell_type": "markdown",
   "metadata": {
    "slideshow": {
     "slide_type": "fragment"
    }
   },
   "source": [
    "<center> /export?format=csv"
   ]
  },
  {
   "cell_type": "markdown",
   "metadata": {
    "slideshow": {
     "slide_type": "subslide"
    }
   },
   "source": [
    "It is now readable using Pandas!"
   ]
  },
  {
   "cell_type": "markdown",
   "metadata": {
    "slideshow": {
     "slide_type": "fragment"
    }
   },
   "source": [
    "We'll use the following command: `pd.read_csv()`"
   ]
  },
  {
   "cell_type": "markdown",
   "metadata": {
    "slideshow": {
     "slide_type": "fragment"
    }
   },
   "source": [
    "This can ingest a file location or URL"
   ]
  },
  {
   "cell_type": "code",
   "execution_count": 7,
   "metadata": {
    "slideshow": {
     "slide_type": "subslide"
    }
   },
   "outputs": [
    {
     "name": "stdout",
     "output_type": "stream",
     "text": [
      "   Project No                                       Project Name  \\\n",
      "0      CO1703   Pearson Avenue and Related Drainage Improvements   \n",
      "1      CO1704  Substandard Utility & Street Rehab (East of SH 5)   \n",
      "2      CO1705  Substandard Utility & Street Rehab (South of V...   \n",
      "3      CO1706  Substandard Utility & Street Rehab (North of V...   \n",
      "4      CO1902  Main Replacements & Street Rehab (Northwood Pa...   \n",
      "5      CO1909          Hill Street Pedestrian Bridge Replacement   \n",
      "6      CO4238            Town Center Infrastructure Improvements   \n",
      "7      CO4412              Southgate Infrastructure Improvements   \n",
      "8      DR1646                     Glenwood Estates Erosion Study   \n",
      "9      DR1808           Upper Warden Creek Drainage Improvements   \n",
      "10     DR1809                  Finch Creek Drainage Improvements   \n",
      "11     DR3251  Cottonwood Creek Unnamed Tributary Drainage Im...   \n",
      "12     DR5093                     NRCS Lake 4 Dam Rehabilitation   \n",
      "13     FA4320                 Trinity Falls Parkway Construction   \n",
      "14     ST1219  Virginia Parkway Lanes 5 & 6 (Bellegrove - US 75)   \n",
      "15     ST1231  Virginia Parkway Lanes 5 & 6 (Ridge – Bellegrove)   \n",
      "16     ST1612                              Redbud Blvd Lanes 3&4   \n",
      "17     ST1613                         McLarry Drive Improvements   \n",
      "18     ST1615       US 380 and Airport Intersection Improvements   \n",
      "19     ST1617                        Ridge Rd (US 380 - Wilmeth)   \n",
      "20     ST1618                Arterial Capacity Improvements FY18   \n",
      "21     ST1622                     Street Rehabilitation Umbrella   \n",
      "22     ST1649                                PROW ADA (Eastside)   \n",
      "23     ST1719                    Wilmeth (Hardin to Lake Forest)   \n",
      "24     ST1723                   Wilmeth (East of Redbud to SH 5)   \n",
      "25     ST1834      Accessibility Improvements (Eastside Phase 2)   \n",
      "26     ST1835              Arterial Capacity Improvements (FY19)   \n",
      "27     ST1837    Stacy Rd at Custer Rd Intersection Improvements   \n",
      "28     ST1838  Eldorado and Custer Intersection / Bridge Impr...   \n",
      "29     ST1839  Virginia Parkway Lanes 5 & 6 (Custer - Virgini...   \n",
      "..        ...                                                ...   \n",
      "49     WA1610     Service Line Replacement - Residential 10 Year   \n",
      "50     WA1624     Redbud Pump Station Transmission Line (794 PP)   \n",
      "51     WA1625              University Pump Station - 920 PP Pump   \n",
      "52     WA1626  McKinney Ranch Pump Station Improvements (Phas...   \n",
      "53     WA1630  Custer Road Utility Relocations (US380 to FM1461)   \n",
      "54     WA1713            Miscellaneous Pump Station Improvements   \n",
      "55     WA1805         Virginia Elevated Storage Tank Maintenance   \n",
      "56     WA1810            NTMWD Meter Vault - Redbud Pump Station   \n",
      "57     WA4202                             Water Master Plan 2018   \n",
      "58     WA4336                          Substandard Mains (Water)   \n",
      "59     WA4337        Undesignated Oversize Participation (Water)   \n",
      "60     WA4339         Airport South & Harry McKillop Water Mains   \n",
      "61     WA4340     Redbud Pump Station Transmission Line (850 PP)   \n",
      "62     WA4341                                  FM 546 Water Line   \n",
      "63     WA4371                            Willowwood Easement/ROW   \n",
      "64     WA4415                     US 380 Water Line Improvements   \n",
      "65     WA8132               Redbud Pump Station Site Development   \n",
      "66     WA9145  Virginia Parkway Water Line Adjustments (Belle...   \n",
      "67     WW1638              Honey Creek SS Trunk Main to MH-HC124   \n",
      "68     WW1853                          Lift Station Improvements   \n",
      "69     WW1855                        Wastewater Main CIPP Lining   \n",
      "70     WW2245  Aerial Wastewater Crossing Improvements – Erwi...   \n",
      "71     WW4209                        Wastewater Master Plan 2018   \n",
      "72     WW4213    Oversize Participation Bloomdale (Stover Creek)   \n",
      "73     WW4239  Oversize Participation Gravity Sewer Main from...   \n",
      "74     WW4348            Aerial Wastewater Crossing Improvements   \n",
      "75     WW4350                     Substandard Mains (Wastewater)   \n",
      "76     WW4351            Sanitary Sewer Evaluation Survey (SSES)   \n",
      "77     WW4354   Undesignated Oversize Participation (Wastewater)   \n",
      "78     WW4404               Sanitary Sewer Condition Assessments   \n",
      "\n",
      "            City Contact             Project Type       Project Status  \\\n",
      "0   Aniswarie Kanamazina  Combined Infrastructure         CONSTRUCTION   \n",
      "1   Aniswarie Kanamazina  Combined Infrastructure         CONSTRUCTION   \n",
      "2             Jason Horn  Combined Infrastructure         CONSTRUCTION   \n",
      "3   Aniswarie Kanamazina  Combined Infrastructure         CONSTRUCTION   \n",
      "4             Nick Ataie  Combined Infrastructure               DESIGN   \n",
      "5             Nick Ataie  Combined Infrastructure             PLANNING   \n",
      "6            Blake Sills  Combined Infrastructure               DESIGN   \n",
      "7             Nick Ataie  Combined Infrastructure  PLANNED IMPROVEMENT   \n",
      "8            Danny Still                 Drainage             PLANNING   \n",
      "9            Danny Still                 Drainage             PLANNING   \n",
      "10           Danny Still                 Drainage             PLANNING   \n",
      "11           Danny Still                 Drainage             PLANNING   \n",
      "12           Danny Still                 Drainage         CONSTRUCTION   \n",
      "13            Nick Ataie     Facilities Agreement         CONSTRUCTION   \n",
      "14           Blake Sills                   Street         CONSTRUCTION   \n",
      "15           Blake Sills                   Street         CONSTRUCTION   \n",
      "16         Joshua Cotton                   Street         CONSTRUCTION   \n",
      "17         Joshua Cotton                   Street         CONSTRUCTION   \n",
      "18         Joshua Cotton                   Street         CONSTRUCTION   \n",
      "19           Blake Sills                   Street               DESIGN   \n",
      "20         Joshua Cotton                   Street         CONSTRUCTION   \n",
      "21            Jason Horn                   Street         CONSTRUCTION   \n",
      "22           Blake Sills                   Street         CONSTRUCTION   \n",
      "23           Blake Sills                   Street             PLANNING   \n",
      "24         Joshua Cotton                   Street               DESIGN   \n",
      "25            Jason Horn                   Street             PLANNING   \n",
      "26  Aniswarie Kanamazina                   Street               DESIGN   \n",
      "27  Aniswarie Kanamazina                   Street             PLANNING   \n",
      "28         Joshua Cotton                   Street             PLANNING   \n",
      "29            Jason Horn                   Street               DESIGN   \n",
      "..                   ...                      ...                  ...   \n",
      "49          Public Works                    Water         CONSTRUCTION   \n",
      "50           Blake Sills                    Water         CONSTRUCTION   \n",
      "51           Paul Tucker                    Water              BIDDING   \n",
      "52           Paul Tucker                    Water               DESIGN   \n",
      "53         Joshua Cotton                    Water               DESIGN   \n",
      "54           Paul Tucker                    Water  PLANNED IMPROVEMENT   \n",
      "55           Paul Tucker                    Water         CONSTRUCTION   \n",
      "56           Paul Tucker                    Water         CONSTRUCTION   \n",
      "57           Paul Tucker                    Water               DESIGN   \n",
      "58            Nick Ataie                    Water             PLANNING   \n",
      "59           Paul Tucker                    Water  PLANNED IMPROVEMENT   \n",
      "60            Jason Horn                    Water  PLANNED IMPROVEMENT   \n",
      "61           Blake Sills                    Water              BIDDING   \n",
      "62            Jason Horn                    Water  PLANNED IMPROVEMENT   \n",
      "63            Nick Ataie                    Water  PLANNED IMPROVEMENT   \n",
      "64            Jason Horn                    Water         CONSTRUCTION   \n",
      "65           Paul Tucker                    Water         CONSTRUCTION   \n",
      "66           Blake Sills                    Water         CONSTRUCTION   \n",
      "67           Paul Tucker               Wastewater             PLANNING   \n",
      "68           Paul Tucker               Wastewater             PLANNING   \n",
      "69           Paul Tucker               Wastewater         CONSTRUCTION   \n",
      "70  Aniswarie Kanamazina               Wastewater         CONSTRUCTION   \n",
      "71           Paul Tucker               Wastewater               DESIGN   \n",
      "72           Paul Tucker               Wastewater         CONSTRUCTION   \n",
      "73           Paul Tucker               Wastewater  PLANNED IMPROVEMENT   \n",
      "74           Blake Sills               Wastewater             PLANNING   \n",
      "75            Nick Ataie               Wastewater             PLANNING   \n",
      "76           Paul Tucker               Wastewater             PLANNING   \n",
      "77           Paul Tucker               Wastewater  PLANNED IMPROVEMENT   \n",
      "78           Paul Tucker               Wastewater             PLANNING   \n",
      "\n",
      "   Project Funding Project Start Date Estimated Project Completion Date  \\\n",
      "0       $3,205,000          2/21/2017                         8/14/2019   \n",
      "1       $8,465,000          4/17/2017                         7/10/2020   \n",
      "2       $3,300,000          4/18/2017                         8/12/2019   \n",
      "3       $5,289,000          2/21/2017                        10/14/2019   \n",
      "4       $4,378,099          3/19/2019                        12/25/2020   \n",
      "5         $350,000                TBD                               TBD   \n",
      "6       $1,000,000           4/9/2019                          8/4/2021   \n",
      "7         $100,000                TBD                               TBD   \n",
      "8         $550,000          7/21/2017                               TBD   \n",
      "9         $650,000           6/8/2018                               TBD   \n",
      "10        $650,000                TBD                               TBD   \n",
      "11         $18,529                TBD                               TBD   \n",
      "12      $5,792,826          9/15/2014                        11/12/2019   \n",
      "13      $3,600,000          10/1/2014                          1/1/2020   \n",
      "14     $11,886,420         10/17/2013                         6/30/2019   \n",
      "15      $4,996,254          9/22/2014                         6/30/2019   \n",
      "16      $2,050,000          6/16/2016                         7/12/2019   \n",
      "17        $850,000          6/16/2016                         7/12/2019   \n",
      "18        $298,500         11/30/2017                        12/11/2019   \n",
      "19     $21,331,900          10/9/2017                         9/17/2020   \n",
      "20      $2,836,500          7/19/2017                        12/11/2019   \n",
      "21      $4,643,730           8/8/2016                          8/1/2019   \n",
      "22      $2,534,057           8/9/2017                        11/15/2019   \n",
      "23      $1,000,000                TBD                               TBD   \n",
      "24      $1,600,000                TBD                               TBD   \n",
      "25      $1,500,000                TBD                               TBD   \n",
      "26      $4,000,000                TBD                               TBD   \n",
      "27        $864,706                TBD                               TBD   \n",
      "28        $500,000                TBD                               TBD   \n",
      "29      $1,800,000                TBD                         7/14/2020   \n",
      "..             ...                ...                               ...   \n",
      "49        $900,000         11/10/2016                         12/1/2026   \n",
      "50      $5,670,000         11/18/2016                          4/8/2019   \n",
      "51      $1,515,000           2/7/2018                        10/30/2020   \n",
      "52      $4,725,000          5/19/2017                          8/5/2020   \n",
      "53      $4,700,000         12/21/2017                          9/1/2020   \n",
      "54        $200,000                TBD                               TBD   \n",
      "55      $1,000,000          1/18/2018                         8/10/2019   \n",
      "56      $2,471,250          6/16/2016                         8/10/2019   \n",
      "57        $220,000           2/7/2018                               TBD   \n",
      "58      $1,056,655           5/3/2018                               TBD   \n",
      "59        $300,000                TBD                               TBD   \n",
      "60      $3,300,000                TBD                               TBD   \n",
      "61      $8,235,000          2/21/2017                          2/3/2020   \n",
      "62              $0                TBD                               TBD   \n",
      "63        $300,000                TBD                               TBD   \n",
      "64      $4,735,000           2/7/2017                         8/28/2019   \n",
      "65     $25,700,000          6/16/2016                        10/17/2019   \n",
      "66      $1,045,000         10/17/2013                         6/30/2019   \n",
      "67      $1,450,000                TBD                               TBD   \n",
      "68        $500,000                TBD                               TBD   \n",
      "69      $2,428,721                TBD                         9/30/2019   \n",
      "70        $504,500          4/21/2015                          8/8/2019   \n",
      "71        $344,000           2/7/2018                               TBD   \n",
      "72      $3,672,697          9/15/2015                        12/31/2019   \n",
      "73      $1,970,000                TBD                               TBD   \n",
      "74        $400,000                TBD                               TBD   \n",
      "75              $0                TBD                               TBD   \n",
      "76        $600,000                TBD                               TBD   \n",
      "77        $300,000                TBD                               TBD   \n",
      "78        $557,470          5/22/2018                               TBD   \n",
      "\n",
      "                                  Project Description  \\\n",
      "0   Pavement rehabilitation of Pearson Avenue from...   \n",
      "1   Various replacement of previously identified s...   \n",
      "2   Various replacement of previously identified s...   \n",
      "3   Various replacement of previously identified s...   \n",
      "4   Various replacement of previously identified s...   \n",
      "5   Replacement of existing pedestrian bridge over...   \n",
      "6   Various improvements to existing street infras...   \n",
      "7   Various improvments to infrastructure for the ...   \n",
      "8   Study to determine erosion threat to homes in ...   \n",
      "9   2D study of the upper portion of the Warden Cr...   \n",
      "10  2D study of the upper portion of the Finch Cre...   \n",
      "11  Downstream improvements in lieu of detention a...   \n",
      "12  Upgrade principal spillway pipe, construct RCC...   \n",
      "13  Construction of Trinity Falls Parkway to a 4-l...   \n",
      "14  Widen Virginia Parkway from 4-lanes to 6-lanes...   \n",
      "15  Widen Virginia Parkway from 4-lanes to 6-lanes...   \n",
      "16  Construction of Redbud Boulevard Lanes 3 and 4...   \n",
      "17  Reconstruction of McLarry Drive from Redbud Bo...   \n",
      "18  Add second westbound left turn lane to US 380 ...   \n",
      "19  Construct Ridge Road from its current terminus...   \n",
      "20  Construction of additional left turn lanes and...   \n",
      "21                      Annual street repair program.   \n",
      "22  Accessibility Improvements within the Downtown...   \n",
      "23  Construction of Lanes 1 & 2 (Ultimate eastboun...   \n",
      "24                        Construction of Lanes 3 & 4   \n",
      "25  Various pedestrian improvements (sidewalk, cur...   \n",
      "26  McKinney Ranch @ Lake Forest, Alma @ Eldorado,...   \n",
      "27                            Addition of Lanes 5 & 6   \n",
      "28  Widening of existing bridge over Rowlett Creek...   \n",
      "29                            Addition of Lanes 5 & 6   \n",
      "..                                                ...   \n",
      "49  Replacement of substandard water service lines...   \n",
      "50  Design and construct the master planned 794 PP...   \n",
      "51  Add 1 - 15 MGD pump for the 920 pressure plane...   \n",
      "52  Replacement of 5 pumps including electrical sw...   \n",
      "53  Custer Road Utility Relocations from US380 to ...   \n",
      "54  Umbrella funding for miscellaneous pump statio...   \n",
      "55  Repainting of the Virginia elevated storage tank.   \n",
      "56  Construction costs assoicated with the NTMWD m...   \n",
      "57   Water Master Plan and Utility Impact Fee Updates   \n",
      "58  Umbrella funding source for replacement of sub...   \n",
      "59  Undesignated oversize participation (wastewate...   \n",
      "60                     Master planned 24\" water mains   \n",
      "61  Design and construct the master planned 850 PP...   \n",
      "62                     Master planned 24\" water main.   \n",
      "63                                    Easements & ROW   \n",
      "64  8 inch to 24 inch water line to replace existi...   \n",
      "65  Design and construction of the pump station fa...   \n",
      "66  Replacement of 12\" waterline along Virginia Pa...   \n",
      "67  Construction of master planned 36\" to 48\" wast...   \n",
      "68  Planned improvements to five (5) existing lift...   \n",
      "69  Cured-In-Place-Pipe (CIPP) lining of existing ...   \n",
      "70   Replace existing 8-inch sanitary sewer crossing.   \n",
      "71  Wastewater Master Plan and Utility Impact Fee ...   \n",
      "72  10,500 LF of 24 inch sanitary sewer trunk line...   \n",
      "73  5,000 LF of 24\" master planned wastewater trun...   \n",
      "74  Improvement / Reconstruction of existing waste...   \n",
      "75  Umbrella funding source for replacement of sub...   \n",
      "76  Evaluation of wastewater basins noted with hig...   \n",
      "77  Undesignated oversize participation (wastewate...   \n",
      "78  Provide condition assessments for the various ...   \n",
      "\n",
      "                                        Project Notes  \n",
      "0   Construction underway as of July 25, 2018. Cur...  \n",
      "1   Construction underway as of January 7, 2019. C...  \n",
      "2   Construction underway as of October 8, 2018. C...  \n",
      "3   Construction underway as of August 29, 2018. C...  \n",
      "4   Project design underway as of March 2019. Cure...  \n",
      "5                      Design to be underway in 2019.  \n",
      "6   Design underway as of April 2019. A public mee...  \n",
      "7                                                 NaN  \n",
      "8                                     Study complete.  \n",
      "9                                     Study underway.  \n",
      "10                      Study to be underway in 2019.  \n",
      "11                                                NaN  \n",
      "12             Construction underway as of July 2018.  \n",
      "13  Construction underway as of February 2019. One...  \n",
      "14  Construction underway as of March 2017. Bridge...  \n",
      "15       Project construction substantially complete.  \n",
      "16      Construction underway as of October 10, 2018.  \n",
      "17      Construction underway as of October 10, 2018.  \n",
      "18  Construction to be underway as of April 2019 b...  \n",
      "19  Project design underway. Construction estimate...  \n",
      "20  Construction to be underway as of April 2019 b...  \n",
      "21  Construction is underway as of January 2019 an...  \n",
      "22         Costruction estimated to begin April 2019.  \n",
      "23                           Design to begin in 2019.  \n",
      "24                           Design to begin in 2019.  \n",
      "25                           Design to begin in 2019.  \n",
      "26                     Design to begin in April 2019.  \n",
      "27                           Design to begin in 2019.  \n",
      "28                           Design to begin in 2019.  \n",
      "29                  Design underway as of March 2019.  \n",
      "..                                                ...  \n",
      "49  https://www.mckinneytexas.org/1702/Water-Servi...  \n",
      "50               Construction substantially complete.  \n",
      "51  Design complete. Construction estimated to beg...  \n",
      "52               Design underway as of November 2018.  \n",
      "53  Design underway as of January 2018. Constructi...  \n",
      "54              No improvements planned at this time.  \n",
      "55  Construction underway as of February, 2019. Du...  \n",
      "56             Construction underway (NTMWD Project).  \n",
      "57                                    Study underway.  \n",
      "58                                                NaN  \n",
      "59                                                NaN  \n",
      "60                           Design to begin in 2019.  \n",
      "61  Design underway as of February 2017. Construct...  \n",
      "62                           Design to begin in 2019.  \n",
      "63                                                NaN  \n",
      "64         Construction underway as of November 2018.  \n",
      "65            Construction underway as of March 2018.  \n",
      "66               Construction substantially complete.  \n",
      "67                           Design to begin in 2019.  \n",
      "68                           Design to begin in 2019.  \n",
      "69         Construction underway as of November 2018.  \n",
      "70            Construction underway as of March 2019.  \n",
      "71                                    Study underway.  \n",
      "72         Construction underway as of February 2019.  \n",
      "73  Close project.  WW4354 Undesignated Oversize P...  \n",
      "74                           Design to begin in 2019.  \n",
      "75                                                NaN  \n",
      "76                                 Project completed.  \n",
      "77                                                NaN  \n",
      "78                                 Project completed.  \n",
      "\n",
      "[79 rows x 10 columns]\n"
     ]
    }
   ],
   "source": [
    "CIP_sheet = \"https://docs.google.com/spreadsheets/d/1QB1pZQ3CN45ZYS2sc4LnuoOaImL5lQsP-ObWNQW5FjY/export?format=csv\"\n",
    "dataframe = pd.read_csv(CIP_sheet)\n",
    "print(dataframe)"
   ]
  },
  {
   "cell_type": "markdown",
   "metadata": {
    "slideshow": {
     "slide_type": "subslide"
    }
   },
   "source": [
    "## Cleaning the Google Sheet"
   ]
  },
  {
   "cell_type": "markdown",
   "metadata": {
    "slideshow": {
     "slide_type": "fragment"
    }
   },
   "source": [
    "A Google Sheet is not a database.<br>\n",
    "While some input standards can be enforced, <br> \n",
    "more often, they aren't.<br>  "
   ]
  },
  {
   "cell_type": "markdown",
   "metadata": {
    "slideshow": {
     "slide_type": "fragment"
    }
   },
   "source": [
    "- `Date` fields contain TBD entries<br>\n",
    "- Funding column has \\\\$'s <br>\n",
    "- Project Type needs to be all-caps"
   ]
  },
  {
   "cell_type": "markdown",
   "metadata": {
    "slideshow": {
     "slide_type": "subslide"
    }
   },
   "source": [
    "Pandas allows you to chain commands using the `.` notation"
   ]
  },
  {
   "cell_type": "markdown",
   "metadata": {
    "slideshow": {
     "slide_type": "fragment"
    }
   },
   "source": [
    "We'll use Pandas `astype()`, `replace()`, and `upper()` functions"
   ]
  },
  {
   "cell_type": "code",
   "execution_count": 8,
   "metadata": {
    "slideshow": {
     "slide_type": "subslide"
    }
   },
   "outputs": [
    {
     "name": "stdout",
     "output_type": "stream",
     "text": [
      "   Project Funding Project Start Date Estimated Project Completion Date  \\\n",
      "0       $3,205,000          2/21/2017                         8/14/2019   \n",
      "1       $8,465,000          4/17/2017                         7/10/2020   \n",
      "2       $3,300,000          4/18/2017                         8/12/2019   \n",
      "3       $5,289,000          2/21/2017                        10/14/2019   \n",
      "4       $4,378,099          3/19/2019                        12/25/2020   \n",
      "5         $350,000                TBD                               TBD   \n",
      "6       $1,000,000           4/9/2019                          8/4/2021   \n",
      "7         $100,000                TBD                               TBD   \n",
      "8         $550,000          7/21/2017                               TBD   \n",
      "9         $650,000           6/8/2018                               TBD   \n",
      "10        $650,000                TBD                               TBD   \n",
      "11         $18,529                TBD                               TBD   \n",
      "12      $5,792,826          9/15/2014                        11/12/2019   \n",
      "13      $3,600,000          10/1/2014                          1/1/2020   \n",
      "14     $11,886,420         10/17/2013                         6/30/2019   \n",
      "15      $4,996,254          9/22/2014                         6/30/2019   \n",
      "16      $2,050,000          6/16/2016                         7/12/2019   \n",
      "17        $850,000          6/16/2016                         7/12/2019   \n",
      "18        $298,500         11/30/2017                        12/11/2019   \n",
      "19     $21,331,900          10/9/2017                         9/17/2020   \n",
      "20      $2,836,500          7/19/2017                        12/11/2019   \n",
      "21      $4,643,730           8/8/2016                          8/1/2019   \n",
      "22      $2,534,057           8/9/2017                        11/15/2019   \n",
      "23      $1,000,000                TBD                               TBD   \n",
      "24      $1,600,000                TBD                               TBD   \n",
      "25      $1,500,000                TBD                               TBD   \n",
      "26      $4,000,000                TBD                               TBD   \n",
      "27        $864,706                TBD                               TBD   \n",
      "28        $500,000                TBD                               TBD   \n",
      "29      $1,800,000                TBD                         7/14/2020   \n",
      "..             ...                ...                               ...   \n",
      "49        $900,000         11/10/2016                         12/1/2026   \n",
      "50      $5,670,000         11/18/2016                          4/8/2019   \n",
      "51      $1,515,000           2/7/2018                        10/30/2020   \n",
      "52      $4,725,000          5/19/2017                          8/5/2020   \n",
      "53      $4,700,000         12/21/2017                          9/1/2020   \n",
      "54        $200,000                TBD                               TBD   \n",
      "55      $1,000,000          1/18/2018                         8/10/2019   \n",
      "56      $2,471,250          6/16/2016                         8/10/2019   \n",
      "57        $220,000           2/7/2018                               TBD   \n",
      "58      $1,056,655           5/3/2018                               TBD   \n",
      "59        $300,000                TBD                               TBD   \n",
      "60      $3,300,000                TBD                               TBD   \n",
      "61      $8,235,000          2/21/2017                          2/3/2020   \n",
      "62              $0                TBD                               TBD   \n",
      "63        $300,000                TBD                               TBD   \n",
      "64      $4,735,000           2/7/2017                         8/28/2019   \n",
      "65     $25,700,000          6/16/2016                        10/17/2019   \n",
      "66      $1,045,000         10/17/2013                         6/30/2019   \n",
      "67      $1,450,000                TBD                               TBD   \n",
      "68        $500,000                TBD                               TBD   \n",
      "69      $2,428,721                TBD                         9/30/2019   \n",
      "70        $504,500          4/21/2015                          8/8/2019   \n",
      "71        $344,000           2/7/2018                               TBD   \n",
      "72      $3,672,697          9/15/2015                        12/31/2019   \n",
      "73      $1,970,000                TBD                               TBD   \n",
      "74        $400,000                TBD                               TBD   \n",
      "75              $0                TBD                               TBD   \n",
      "76        $600,000                TBD                               TBD   \n",
      "77        $300,000                TBD                               TBD   \n",
      "78        $557,470          5/22/2018                               TBD   \n",
      "\n",
      "               Project Type  \n",
      "0   Combined Infrastructure  \n",
      "1   Combined Infrastructure  \n",
      "2   Combined Infrastructure  \n",
      "3   Combined Infrastructure  \n",
      "4   Combined Infrastructure  \n",
      "5   Combined Infrastructure  \n",
      "6   Combined Infrastructure  \n",
      "7   Combined Infrastructure  \n",
      "8                  Drainage  \n",
      "9                  Drainage  \n",
      "10                 Drainage  \n",
      "11                 Drainage  \n",
      "12                 Drainage  \n",
      "13     Facilities Agreement  \n",
      "14                   Street  \n",
      "15                   Street  \n",
      "16                   Street  \n",
      "17                   Street  \n",
      "18                   Street  \n",
      "19                   Street  \n",
      "20                   Street  \n",
      "21                   Street  \n",
      "22                   Street  \n",
      "23                   Street  \n",
      "24                   Street  \n",
      "25                   Street  \n",
      "26                   Street  \n",
      "27                   Street  \n",
      "28                   Street  \n",
      "29                   Street  \n",
      "..                      ...  \n",
      "49                    Water  \n",
      "50                    Water  \n",
      "51                    Water  \n",
      "52                    Water  \n",
      "53                    Water  \n",
      "54                    Water  \n",
      "55                    Water  \n",
      "56                    Water  \n",
      "57                    Water  \n",
      "58                    Water  \n",
      "59                    Water  \n",
      "60                    Water  \n",
      "61                    Water  \n",
      "62                    Water  \n",
      "63                    Water  \n",
      "64                    Water  \n",
      "65                    Water  \n",
      "66                    Water  \n",
      "67               Wastewater  \n",
      "68               Wastewater  \n",
      "69               Wastewater  \n",
      "70               Wastewater  \n",
      "71               Wastewater  \n",
      "72               Wastewater  \n",
      "73               Wastewater  \n",
      "74               Wastewater  \n",
      "75               Wastewater  \n",
      "76               Wastewater  \n",
      "77               Wastewater  \n",
      "78               Wastewater  \n",
      "\n",
      "[79 rows x 4 columns]\n"
     ]
    }
   ],
   "source": [
    "df_dirty = dataframe.copy()\n",
    "df_dirty = df_dirty[['Project Funding','Project Start Date', 'Estimated Project Completion Date','Project Type']]       \n",
    "print(df_dirty)"
   ]
  },
  {
   "cell_type": "code",
   "execution_count": 9,
   "metadata": {
    "slideshow": {
     "slide_type": "subslide"
    }
   },
   "outputs": [
    {
     "name": "stdout",
     "output_type": "stream",
     "text": [
      "Project Funding                      float64\n",
      "Project Start Date                    object\n",
      "Estimated Project Completion Date     object\n",
      "Project Type                          object\n",
      "dtype: object\n",
      "    Project Funding Project Start Date Estimated Project Completion Date  \\\n",
      "0         3205000.0          2/21/2017                         8/14/2019   \n",
      "1         8465000.0          4/17/2017                         7/10/2020   \n",
      "2         3300000.0          4/18/2017                         8/12/2019   \n",
      "3         5289000.0          2/21/2017                        10/14/2019   \n",
      "4         4378099.0          3/19/2019                        12/25/2020   \n",
      "5          350000.0                                                        \n",
      "6         1000000.0           4/9/2019                          8/4/2021   \n",
      "7          100000.0                                                        \n",
      "8          550000.0          7/21/2017                                     \n",
      "9          650000.0           6/8/2018                                     \n",
      "10         650000.0                                                        \n",
      "11          18529.0                                                        \n",
      "12        5792826.0          9/15/2014                        11/12/2019   \n",
      "13        3600000.0          10/1/2014                          1/1/2020   \n",
      "14       11886420.0         10/17/2013                         6/30/2019   \n",
      "15        4996254.0          9/22/2014                         6/30/2019   \n",
      "16        2050000.0          6/16/2016                         7/12/2019   \n",
      "17         850000.0          6/16/2016                         7/12/2019   \n",
      "18         298500.0         11/30/2017                        12/11/2019   \n",
      "19       21331900.0          10/9/2017                         9/17/2020   \n",
      "20        2836500.0          7/19/2017                        12/11/2019   \n",
      "21        4643730.0           8/8/2016                          8/1/2019   \n",
      "22        2534057.0           8/9/2017                        11/15/2019   \n",
      "23        1000000.0                                                        \n",
      "24        1600000.0                                                        \n",
      "25        1500000.0                                                        \n",
      "26        4000000.0                                                        \n",
      "27         864706.0                                                        \n",
      "28         500000.0                                                        \n",
      "29        1800000.0                                            7/14/2020   \n",
      "..              ...                ...                               ...   \n",
      "49         900000.0         11/10/2016                         12/1/2026   \n",
      "50        5670000.0         11/18/2016                          4/8/2019   \n",
      "51        1515000.0           2/7/2018                        10/30/2020   \n",
      "52        4725000.0          5/19/2017                          8/5/2020   \n",
      "53        4700000.0         12/21/2017                          9/1/2020   \n",
      "54         200000.0                                                        \n",
      "55        1000000.0          1/18/2018                         8/10/2019   \n",
      "56        2471250.0          6/16/2016                         8/10/2019   \n",
      "57         220000.0           2/7/2018                                     \n",
      "58        1056655.0           5/3/2018                                     \n",
      "59         300000.0                                                        \n",
      "60        3300000.0                                                        \n",
      "61        8235000.0          2/21/2017                          2/3/2020   \n",
      "62              0.0                                                        \n",
      "63         300000.0                                                        \n",
      "64        4735000.0           2/7/2017                         8/28/2019   \n",
      "65       25700000.0          6/16/2016                        10/17/2019   \n",
      "66        1045000.0         10/17/2013                         6/30/2019   \n",
      "67        1450000.0                                                        \n",
      "68         500000.0                                                        \n",
      "69        2428721.0                                            9/30/2019   \n",
      "70         504500.0          4/21/2015                          8/8/2019   \n",
      "71         344000.0           2/7/2018                                     \n",
      "72        3672697.0          9/15/2015                        12/31/2019   \n",
      "73        1970000.0                                                        \n",
      "74         400000.0                                                        \n",
      "75              0.0                                                        \n",
      "76         600000.0                                                        \n",
      "77         300000.0                                                        \n",
      "78         557470.0          5/22/2018                                     \n",
      "\n",
      "               Project Type  \n",
      "0   COMBINED INFRASTRUCTURE  \n",
      "1   COMBINED INFRASTRUCTURE  \n",
      "2   COMBINED INFRASTRUCTURE  \n",
      "3   COMBINED INFRASTRUCTURE  \n",
      "4   COMBINED INFRASTRUCTURE  \n",
      "5   COMBINED INFRASTRUCTURE  \n",
      "6   COMBINED INFRASTRUCTURE  \n",
      "7   COMBINED INFRASTRUCTURE  \n",
      "8                  DRAINAGE  \n",
      "9                  DRAINAGE  \n",
      "10                 DRAINAGE  \n",
      "11                 DRAINAGE  \n",
      "12                 DRAINAGE  \n",
      "13     FACILITIES AGREEMENT  \n",
      "14                   STREET  \n",
      "15                   STREET  \n",
      "16                   STREET  \n",
      "17                   STREET  \n",
      "18                   STREET  \n",
      "19                   STREET  \n",
      "20                   STREET  \n",
      "21                   STREET  \n",
      "22                   STREET  \n",
      "23                   STREET  \n",
      "24                   STREET  \n",
      "25                   STREET  \n",
      "26                   STREET  \n",
      "27                   STREET  \n",
      "28                   STREET  \n",
      "29                   STREET  \n",
      "..                      ...  \n",
      "49                    WATER  \n",
      "50                    WATER  \n",
      "51                    WATER  \n",
      "52                    WATER  \n",
      "53                    WATER  \n",
      "54                    WATER  \n",
      "55                    WATER  \n",
      "56                    WATER  \n",
      "57                    WATER  \n",
      "58                    WATER  \n",
      "59                    WATER  \n",
      "60                    WATER  \n",
      "61                    WATER  \n",
      "62                    WATER  \n",
      "63                    WATER  \n",
      "64                    WATER  \n",
      "65                    WATER  \n",
      "66                    WATER  \n",
      "67               WASTEWATER  \n",
      "68               WASTEWATER  \n",
      "69               WASTEWATER  \n",
      "70               WASTEWATER  \n",
      "71               WASTEWATER  \n",
      "72               WASTEWATER  \n",
      "73               WASTEWATER  \n",
      "74               WASTEWATER  \n",
      "75               WASTEWATER  \n",
      "76               WASTEWATER  \n",
      "77               WASTEWATER  \n",
      "78               WASTEWATER  \n",
      "\n",
      "[79 rows x 4 columns]\n"
     ]
    }
   ],
   "source": [
    "df_clean = df_dirty.copy() \n",
    "\n",
    "df_clean['Project Funding'] = df_clean['Project Funding'].replace('[\\$,]', '', regex=True).astype(float)\n",
    "df_clean['Project Start Date'] = df_clean['Project Start Date'].replace('[TBD]', '', regex=True)\n",
    "df_clean['Estimated Project Completion Date'] = df_clean['Estimated Project Completion Date'].replace('[TBD]', '', regex=True)\n",
    "df_clean['Project Type'] = df_clean['Project Type'].astype(str).str.upper()\n",
    "print(df_clean.dtypes)\n",
    "print(df_clean)"
   ]
  },
  {
   "cell_type": "markdown",
   "metadata": {
    "slideshow": {
     "slide_type": "subslide"
    }
   },
   "source": [
    "The data are now clean and ready to be taken inside the ArcGIS Environment"
   ]
  },
  {
   "cell_type": "markdown",
   "metadata": {
    "slideshow": {
     "slide_type": "fragment"
    }
   },
   "source": [
    "Let's take a look at what we've done so far!"
   ]
  },
  {
   "cell_type": "code",
   "execution_count": 10,
   "metadata": {
    "slideshow": {
     "slide_type": "subslide"
    }
   },
   "outputs": [
    {
     "name": "stdout",
     "output_type": "stream",
     "text": [
      "Pandas at 0.23.4\n",
      "Numpy at 1.15.1\n",
      "ArcPy imported successfully.\n"
     ]
    }
   ],
   "source": [
    "import pandas as pd\n",
    "print(\"Pandas at {}\".format(pd.__version__))\n",
    "import numpy as np\n",
    "print(\"Numpy at {}\".format(np.version.full_version))\n",
    "import arcpy\n",
    "print(\"ArcPy imported successfully.\")\n",
    "import datetime, time\n",
    "import os, shutil, tempfile\n",
    "import traceback\n",
    "\n",
    "def auto_truncate(val):\n",
    "\treturn val[:255]\n",
    "\n",
    "def write_to_log(content):\n",
    "\tlog_time = datetime.datetime.now().strftime(\"%Y-%m-%d %H:%M:%S\")\n",
    "\twith open(r\"C:\\Users\\jcarmona\\Desktop\\SCAUG 2019 PRESENTATION\\CIP_GoogleSheet_log.txt\", \"a\") as log_file:\n",
    "\t\tlog_file.write(f\"\\n{log_time} --- {content}\")\n",
    "\n",
    "starttime = time.time()"
   ]
  },
  {
   "cell_type": "code",
   "execution_count": 11,
   "metadata": {
    "slideshow": {
     "slide_type": "subslide"
    }
   },
   "outputs": [
    {
     "name": "stdout",
     "output_type": "stream",
     "text": [
      "Reading and cleaning CIP Google Sheet.\n",
      "  Project No                                       Project Name  \\\n",
      "0     CO1703   Pearson Avenue and Related Drainage Improvements   \n",
      "1     CO1704  Substandard Utility & Street Rehab (East of SH 5)   \n",
      "2     CO1705  Substandard Utility & Street Rehab (South of V...   \n",
      "3     CO1706  Substandard Utility & Street Rehab (North of V...   \n",
      "4     CO1902  Main Replacements & Street Rehab (Northwood Pa...   \n",
      "\n",
      "           City Contact             Project Type Project Status  \\\n",
      "0  Aniswarie Kanamazina  COMBINED INFRASTRUCTURE   CONSTRUCTION   \n",
      "1  Aniswarie Kanamazina  COMBINED INFRASTRUCTURE   CONSTRUCTION   \n",
      "2            Jason Horn  COMBINED INFRASTRUCTURE   CONSTRUCTION   \n",
      "3  Aniswarie Kanamazina  COMBINED INFRASTRUCTURE   CONSTRUCTION   \n",
      "4            Nick Ataie  COMBINED INFRASTRUCTURE         DESIGN   \n",
      "\n",
      "   Project Funding Project Start Date Estimated Project Completion Date  \\\n",
      "0        3205000.0          2/21/2017                         8/14/2019   \n",
      "1        8465000.0          4/17/2017                         7/10/2020   \n",
      "2        3300000.0          4/18/2017                         8/12/2019   \n",
      "3        5289000.0          2/21/2017                        10/14/2019   \n",
      "4        4378099.0          3/19/2019                        12/25/2020   \n",
      "\n",
      "                                 Project Description  \\\n",
      "0  Pavement rehabilitation of Pearson Avenue from...   \n",
      "1  Various replacement of previously identified s...   \n",
      "2  Various replacement of previously identified s...   \n",
      "3  Various replacement of previously identified s...   \n",
      "4  Various replacement of previously identified s...   \n",
      "\n",
      "                                       Project Notes  \n",
      "0  Construction underway as of July 25, 2018. Cur...  \n",
      "1  Construction underway as of January 7, 2019. C...  \n",
      "2  Construction underway as of October 8, 2018. C...  \n",
      "3  Construction underway as of August 29, 2018. C...  \n",
      "4  Project design underway as of March 2019. Cure...  \n"
     ]
    }
   ],
   "source": [
    "CIP_sheet = \"https://docs.google.com/spreadsheets/d/1QB1pZQ3CN45ZYS2sc4LnuoOaImL5lQsP-ObWNQW5FjY/export?format=csv\"\n",
    "\n",
    "print(\"Reading and cleaning CIP Google Sheet.\")\n",
    "df = pd.read_csv(CIP_sheet, converters ={'Project Description': auto_truncate, 'Project Notes': auto_truncate})\n",
    "\n",
    "df['Project Funding'] = df['Project Funding'].replace('[\\$,]', '', regex=True).astype(float)\n",
    "df['Project Start Date'] = df['Project Start Date'].replace('[TBD]', '', regex=True).astype(str)\n",
    "df['Estimated Project Completion Date'] = df['Estimated Project Completion Date'].replace('[TBD]', '', regex=True).astype(str)\n",
    "df['Project Type'] = df['Project Type'].astype(str).str.upper()\n",
    "\n",
    "print(df.head(5))"
   ]
  },
  {
   "cell_type": "markdown",
   "metadata": {
    "slideshow": {
     "slide_type": "slide"
    }
   },
   "source": [
    "# <center> Code Part II"
   ]
  },
  {
   "cell_type": "markdown",
   "metadata": {
    "slideshow": {
     "slide_type": "fragment"
    }
   },
   "source": [
    "## <center> Sheet to Table&nbsp;&nbsp;<i>2-Step</i>"
   ]
  },
  {
   "cell_type": "markdown",
   "metadata": {
    "slideshow": {
     "slide_type": "fragment"
    }
   },
   "source": [
    "#### <br>\n",
    "#### <center> Converting Pandas Dataframe to NumPy Array\n",
    "#### <center> Numpy Array to Esri Table\n",
    "#### <center> Table Additions and Calculations"
   ]
  },
  {
   "cell_type": "markdown",
   "metadata": {
    "slideshow": {
     "slide_type": "subslide"
    }
   },
   "source": [
    "## Converting Pandas Dataframe to NumPy Array"
   ]
  },
  {
   "cell_type": "markdown",
   "metadata": {
    "slideshow": {
     "slide_type": "fragment"
    }
   },
   "source": [
    "Currently, there is not native support for Pandas dataframes within Desktop ArcGIS"
   ]
  },
  {
   "cell_type": "markdown",
   "metadata": {
    "slideshow": {
     "slide_type": "fragment"
    }
   },
   "source": [
    "We'll need to have an intermediate step using NumPy which is supported"
   ]
  },
  {
   "cell_type": "markdown",
   "metadata": {
    "slideshow": {
     "slide_type": "subslide"
    }
   },
   "source": [
    "Broadly, we will turn our records into a NumPy `array` using `np.array()` and `np.rec.fromrecords()`"
   ]
  },
  {
   "cell_type": "markdown",
   "metadata": {
    "slideshow": {
     "slide_type": "fragment"
    }
   },
   "source": [
    "This allows us to plug in our dataframe values with this chain command `dataframe.values`, using the following: \n",
    "`np.array(np.rec.fromrecords(dataframe.values))`"
   ]
  },
  {
   "cell_type": "markdown",
   "metadata": {
    "slideshow": {
     "slide_type": "subslide"
    }
   },
   "source": [
    "Then we'll gather our column names into a `list`, with this:  \n",
    "`dataframe.dtypes.index.tolist()`"
   ]
  },
  {
   "cell_type": "markdown",
   "metadata": {
    "slideshow": {
     "slide_type": "fragment"
    }
   },
   "source": [
    "And assign the `list` of column names into the previous `array` as a `tuple`"
   ]
  },
  {
   "cell_type": "markdown",
   "metadata": {
    "slideshow": {
     "slide_type": "subslide"
    }
   },
   "source": [
    "This process takes 3 Lines of Code:"
   ]
  },
  {
   "cell_type": "code",
   "execution_count": 12,
   "metadata": {
    "slideshow": {
     "slide_type": "fragment"
    }
   },
   "outputs": [
    {
     "name": "stdout",
     "output_type": "stream",
     "text": [
      "These are our column names: \n",
      "['Project No', 'Project Name', 'City Contact', 'Project Type', 'Project Status', 'Project Funding', 'Project Start Date', 'Estimated Project Completion Date', 'Project Description', 'Project Notes']\n",
      "\n",
      "This is an array: \n",
      "[('CO1703', 'Pearson Avenue and Related Drainage Improvements', 'Aniswarie Kanamazina', 'COMBINED INFRASTRUCTURE', 'CONSTRUCTION', 3.205000e+06, '2/21/2017', '8/14/2019', 'Pavement rehabilitation of Pearson Avenue from Waddill Street to Kentucky Street including the addition of storm sewer infrastructure (Pearson, College, Coleman) and the replacement of a substandard wastewater main along Pearson from Waddill to Kentucky', 'Construction underway as of July 25, 2018. Current work includes installation of new underground storm drainage along Pearson Avenue.')\n",
      " ('CO1704', 'Substandard Utility & Street Rehab (East of SH 5)', 'Aniswarie Kanamazina', 'COMBINED INFRASTRUCTURE', 'CONSTRUCTION', 8.465000e+06, '4/17/2017', '7/10/2020', 'Various replacement of previously identified substandard water/wastewater mains and failed pavement generally located east of SH 5, north of Industrial, south of US 380. ', 'Construction underway as of January 7, 2019. Current work includes water and wastewater main replacements on Throckmorton and Street Rehab and additional WL on Rockwall')\n",
      " ('CO1705', 'Substandard Utility & Street Rehab (South of Virginia)', 'Jason Horn', 'COMBINED INFRASTRUCTURE', 'CONSTRUCTION', 3.300000e+06, '4/18/2017', '8/12/2019', 'Various replacement of previously identified substandard water/wastewater mains and failing pavement generally located south of Virginia, north of Eldorado, west of SH 5. ', 'Construction underway as of October 8, 2018. Current work includes water main replacement along Barnes St, followed by South Truett St.')\n",
      " ('CO1706', 'Substandard Utility & Street Rehab (North of Virginia)', 'Aniswarie Kanamazina', 'COMBINED INFRASTRUCTURE', 'CONSTRUCTION', 5.289000e+06, '2/21/2017', '10/14/2019', 'Various replacement of previously identified substandard water/wastewater mains and failed pavement generally located north of Virginia, south of Bray Central, west of SH 5, east of Community.', 'Construction underway as of August 29, 2018. Current work includes replacement of mains along\\xa0Gwendola, Stonegate Apartment complex,\\xa0Wysong Dr, N. Waddill St., and Inwood Dr. Street Rehab and sidewalk replacement along Gwendola, Randy Lee and W Park N Dr.')\n",
      " ('CO1902', 'Main Replacements & Street Rehab (Northwood Park / Westwood Park Area)', 'Nick Ataie', 'COMBINED INFRASTRUCTURE', 'DESIGN', 4.378099e+06, '3/19/2019', '12/25/2020', 'Various replacement of previously identified substandard water/wastewater mains and failed pavement generally located north of Rockhill Rd, south of Bois D Arc, east of Dogwood, and west of US 75.', 'Project design underway as of March 2019. Curent work includes surveying activites.')\n",
      " ('CO1909', 'Hill Street Pedestrian Bridge Replacement', 'Nick Ataie', 'COMBINED INFRASTRUCTURE', 'PLANNING', 3.500000e+05, '', '', 'Replacement of existing pedestrian bridge over Cedar Creek', 'Design to be underway in 2019.')\n",
      " ('CO4238', 'Town Center Infrastructure Improvements', 'Blake Sills', 'COMBINED INFRASTRUCTURE', 'DESIGN', 1.000000e+06, '4/9/2019', '8/4/2021', 'Various improvements to existing street infrastructure in the McKinney Town Center', 'Design underway as of April 2019. A public meeting will be scheduled during summer 2019.')\n",
      " ('CO4412', 'Southgate Infrastructure Improvements', 'Nick Ataie', 'COMBINED INFRASTRUCTURE', 'PLANNED IMPROVEMENT', 1.000000e+05, '', '', 'Various improvments to infrastructure for the Southgate Development as determined.', '')\n",
      " ('DR1646', 'Glenwood Estates Erosion Study', 'Danny Still', 'DRAINAGE', 'PLANNING', 5.500000e+05, '7/21/2017', '', 'Study to determine erosion threat to homes in\\xa0Glenwood Estates subdivision and propose mitigation alternatives', 'Study\\xa0complete.')\n",
      " ('DR1808', 'Upper Warden Creek Drainage Improvements', 'Danny Still', 'DRAINAGE', 'PLANNING', 6.500000e+05, '6/8/2018', '', '2D study of the upper portion of the Warden Creek watershed to analyze existing infrastructure and propose improvements', 'Study underway.')\n",
      " ('DR1809', 'Finch Creek Drainage Improvements', 'Danny Still', 'DRAINAGE', 'PLANNING', 6.500000e+05, '', '', '2D study of the upper portion of the Finch Creek watershed to analyze existing infrastructure and design improvements', 'Study to be underway in 2019.')\n",
      " ('DR3251', 'Cottonwood Creek Unnamed Tributary Drainage Improvements', 'Danny Still', 'DRAINAGE', 'PLANNING', 1.852900e+04, '', '', 'Downstream improvements in lieu of detention at Village Park', '')\n",
      " ('DR5093', 'NRCS Lake 4 Dam Rehabilitation', 'Danny Still', 'DRAINAGE', 'CONSTRUCTION', 5.792826e+06, '9/15/2014', '11/12/2019', 'Upgrade principal spillway pipe, construct RCC spillway near dam center, raise top of dam elevation', 'Construction underway as of July 2018.')\n",
      " ('FA4320', 'Trinity Falls Parkway Construction', 'Nick Ataie', 'FACILITIES AGREEMENT', 'CONSTRUCTION', 3.600000e+06, '10/1/2014', '1/1/2020', 'Construction of Trinity Falls Parkway to a 4-lane divided roadway.', 'Construction underway as of February 2019. One lane of traffic in each direction will be maintained along Trinty Falls Parkway through the duration of construction.')\n",
      " ('ST1219', 'Virginia Parkway Lanes 5 & 6 (Bellegrove - US 75)', 'Blake Sills', 'STREET', 'CONSTRUCTION', 1.188642e+07, '10/17/2013', '6/30/2019', 'Widen Virginia Parkway from 4-lanes to 6-lanes, including the bridge over Wilson Creek. Right-of-way acquisition, utility adjustments, water and wastewater line construction are also included within the scope of the project.', 'Construction underway as of March 2017. Bridge work will continue at Wilson Creek with upcoming median and overlook work requiring daily lane closures. Paving of the additional lanes and driveways between Bellegrove and US 75 is on-going. Outside lane clo')\n",
      " ('ST1231', 'Virginia Parkway Lanes 5 & 6 (Ridge – Bellegrove)', 'Blake Sills', 'STREET', 'CONSTRUCTION', 4.996254e+06, '9/22/2014', '6/30/2019', 'Widen Virginia Parkway from 4-lanes to 6-lanes from just east of Ridge Road to Bellegrove. Traffic signals will be added at the Virginia Parkway intersections with Crutcher Crossing and Mallard Lakes.', 'Project construction substantially complete.')\n",
      " ('ST1612', 'Redbud Blvd Lanes 3&4', 'Joshua Cotton', 'STREET', 'CONSTRUCTION', 2.050000e+06, '6/16/2016', '7/12/2019', 'Construction of Redbud Boulevard Lanes 3 and 4 (west side of roadway) between Bloomdale Road and McLarry Drive', 'Construction underway as of October 10, 2018.')\n",
      " ('ST1613', 'McLarry Drive Improvements', 'Joshua Cotton', 'STREET', 'CONSTRUCTION', 8.500000e+05, '6/16/2016', '7/12/2019', 'Reconstruction of McLarry Drive from Redbud Boulevard to approx. 1200 feet north of their intersection ', 'Construction underway as of October 10, 2018.')\n",
      " ('ST1615', 'US 380 and Airport Intersection Improvements', 'Joshua Cotton', 'STREET', 'CONSTRUCTION', 2.985000e+05, '11/30/2017', '12/11/2019', 'Add second westbound left turn lane to US 380 at its intersection with Airport Drive including minor signal adjustments, restriping, and additional pavement.', 'Construction to be underway as of April 2019\\xa0beginning\\xa0at US 380 & Hardin Blvd with other locations following.')\n",
      " ('ST1617', 'Ridge Rd (US 380 - Wilmeth)', 'Blake Sills', 'STREET', 'DESIGN', 2.133190e+07, '10/9/2017', '9/17/2020', 'Construct Ridge Road from its current terminus at US 380 to Wilmeth Road.', 'Project design underway. Construction estimated to begin in Fall 2019.')\n",
      " ('ST1618', 'Arterial Capacity Improvements FY18', 'Joshua Cotton', 'STREET', 'CONSTRUCTION', 2.836500e+06, '7/19/2017', '12/11/2019', 'Construction of additional left turn lanes and right turn lanes along with improvements to the existing traffic signals at the intersections of US 380 and Hardin Blvd, Westridge Dr and Custer Rd, and Virginia Pkwy and Ridge Rd', 'Construction to be underway as of April 2019\\xa0beginning\\xa0at US 380 & Hardin Blvd with other locations following.')\n",
      " ('ST1622', 'Street Rehabilitation Umbrella', 'Jason Horn', 'STREET', 'CONSTRUCTION', 4.643730e+06, '8/8/2016', '8/1/2019', 'Annual street repair program.', 'Construction is underway as of January 2019 and is expected to be complete at all location by Summer 2019.')\n",
      " ('ST1649', 'PROW ADA (Eastside)', 'Blake Sills', 'STREET', 'CONSTRUCTION', 2.534057e+06, '8/9/2017', '11/15/2019', 'Accessibility Improvements within the Downtown Area: Hunt St (Board to SH 5), Lamar St (Sherman to SH 5), Davis St (Church to SH 5), Church St (Walker to Davis), Kentucky St (Walker to Hunt), Tennessee St (Walker to Herndon), and area surrounding Mitchell', 'Costruction estimated to begin April 2019.')\n",
      " ('ST1719', 'Wilmeth (Hardin to Lake Forest)', 'Blake Sills', 'STREET', 'PLANNING', 1.000000e+06, '', '', 'Construction of Lanes 1 & 2 (Ultimate eastbound lanes)', 'Design to begin in 2019.')\n",
      " ('ST1723', 'Wilmeth (East of Redbud to SH 5)', 'Joshua Cotton', 'STREET', 'DESIGN', 1.600000e+06, '', '', 'Construction of Lanes 3 & 4', 'Design to begin in 2019.')\n",
      " ('ST1834', 'Accessibility Improvements (Eastside Phase 2)', 'Jason Horn', 'STREET', 'PLANNING', 1.500000e+06, '', '', 'Various pedestrian improvements (sidewalk, curb ramps, and intersections) in the Downtown McKinney area. Continuation of improvements for Phase 1 (ST1649).', 'Design to begin in 2019.')\n",
      " ('ST1835', 'Arterial Capacity Improvements (FY19)', 'Aniswarie Kanamazina', 'STREET', 'DESIGN', 4.000000e+06, '', '', 'McKinney Ranch @ Lake Forest, Alma @ Eldorado, Virginia @ Stonebridge, Hardin\\xa0@ White', 'Design to begin in April 2019.')\n",
      " ('ST1837', 'Stacy Rd at Custer Rd Intersection Improvements', 'Aniswarie Kanamazina', 'STREET', 'PLANNING', 8.647060e+05, '', '', 'Addition of Lanes 5 & 6', 'Design to begin in 2019.')\n",
      " ('ST1838', 'Eldorado and Custer Intersection / Bridge Improvements', 'Joshua Cotton', 'STREET', 'PLANNING', 5.000000e+05, '', '', 'Widening of existing bridge over Rowlett Creek to include lanes 5 & 6 including various intersection capacity improvements.', 'Design to begin in 2019.')\n",
      " ('ST1839', 'Virginia Parkway Lanes 5 & 6 (Custer - Virginia Parklands)', 'Jason Horn', 'STREET', 'DESIGN', 1.800000e+06, '', '7/14/2020', 'Addition of Lanes 5 & 6', 'Design underway as of March 2019.')\n",
      " ('ST1841', 'Collin McKinney Pkwy (Lake Forest - Hardin)', 'Joshua Cotton', 'STREET', 'PLANNING', 1.000000e+06, '', '', 'Construction of remaining Lanes 1 & 2', 'Design to begin in 2019. Funding for construction has not been identified.')\n",
      " ('ST3212', 'Stacy Rd Lanes 5 & 6 (Custer - Ridge)', 'Aniswarie Kanamazina', 'STREET', 'PLANNING', 5.000000e+05, '', '', 'Construction of Lanes 5 & 6 including signaliziton of Stacy Rd\\xa0at McKinney Ranch Pkwy', 'Design to begin in 2019.')\n",
      " ('ST4227', 'Bloomdale Road Extension - Community to Hardin', 'Jason Horn', 'STREET', 'LAND ACQUISITION', 1.130000e+07, '7/8/2016', '9/24/2020', 'Extension of Bloomdale from Hardin Blvd to Community Ave with a 4 lane divided roadway.', 'Design underway as of March 2017. Land acquisition and Franchise Utility Relocation underway. Construction expected to begin Summer 2019.')\n",
      " ('ST4331', 'Laud Howell Parkway ', 'Nick Ataie', 'STREET', 'DESIGN', 1.740000e+07, '1/5/2016', '', 'Final design for the extension of Laud Howell Parkway from Trinity Falls Parkway to Hardin Boulevard including the addition of lanes 5 & 6 along Laud Howell from US 75 to Trinity Falls Parkway.', 'Design underway. Construction funding not identified at this time.')\n",
      " ('ST4334', 'Stonebridge Drive Bridge Replacement', 'Joshua Cotton', 'STREET', 'CONSTRUCTION', 2.500000e+06, '8/5/2016', '10/30/2019', 'Reconstruction of Stonebridge Bridge over Rowlett Creek along with the adjacent roadway.', 'Construction underway as of March 4, 2019.\\xa0\\xa0Long-term closure of Stonebridge Drive from Lakota Trail to Cascades Drive.\\xa0Use signed detours.\\xa0Project completion scheduled for September/October 2019.')\n",
      " ('ST4372', 'Country Lane Extension', 'Aniswarie Kanamazina', 'STREET', 'DESIGN', 1.500000e+06, '11/30/2017', '8/31/2020', 'Extend Country Lane from its current southern terminus to FM 546. Includes reconstruction of Airport/Country and existing FM 546 intersection, and design of SB right turn lane and intersection reconstruction at Airport/Industrial intersection.', 'Design underway as of November 2017. Construction expected to begin in 2019.')\n",
      " ('ST4375', 'Development Catalyst Project', 'Nick Ataie', 'STREET', 'PLANNED IMPROVEMENT', 1.650000e+06, '', '', 'TBD Development Catalyst funding for various street infrastructure', '')\n",
      " ('ST4422', 'Trinity Falls Parkway Link', 'Nick Ataie', 'STREET', 'CONSTRUCTION', 1.600000e+06, '10/6/2015', '1/1/2020', 'Design lanes 3&4 for Trinity Falls Parkway from Laud Howell Parkway to the north/south section of Trinity Falls Parkway', 'Construction underway as of February 2019. One lane of traffic in each direction will be maintained along Trinty Falls Parkway through the duration of construction.')\n",
      " ('ST9115', 'Custer Road Design & ROW (US 380 – FM 1461)', 'Joshua Cotton', 'STREET', 'DESIGN', 4.609824e+06, '1/27/2009', '7/1/2023', 'Preliminary and Final engineering for the widening of Custer Road (FM 2478) from 380 to 1461.  Ultimate road will be six-lanes, but current PS&E will include only four lanes.', 'Design underway.\\xa0Construction by TxDOT expected to commence\\xa0late 2020.')\n",
      " ('TR1620', 'FY 17 Traffic Signals', 'Blake Sills', 'TRAFFIC', 'CONSTRUCTION', 1.092837e+06, '4/4/2017', '7/1/2019', 'Construction of permanent traffic signals at Independence & Westridge, Hardin & Winding Brook / Piersall, Ridge & Habersham.', 'Construction of the new traffic signal at Independence/Westridge is underway as of December 2018. Construction of the remaining two signal locations are expected to begin in April 2019.')\n",
      " ('TR1702', 'Custer & Silverado Traffic Signal Installation', 'Blake Sills', 'TRAFFIC', 'CONSTRUCTION', 3.500000e+05, '4/4/2017', '6/1/2019', 'Construction of permanent traffic signal at Custer & Silverado.', 'Construction of the new traffic signal at Custer/Silverado is expected to begin in April 2019.')\n",
      " ('TR1843', 'Traffic Signalization (FY19)', 'Matt Tilke', 'TRAFFIC', 'DESIGN', 4.344200e+05, '12/3/2018', '', 'Construction of permanent traffic signals (See TR1844, TR1845, TR1846)', 'Design underway as of December 2018.')\n",
      " ('TR1844', 'Traffic Signalization (FY19) - RIF Zone G', 'Matt Tilke', 'TRAFFIC', 'DESIGN', 2.000000e+05, '12/3/2018', '', 'Construction of a permanent traffic signal at Virginia Parkway at Independence Parkway.', 'Design underway as of December 2018.')\n",
      " ('TR1845', 'Traffic Signalization (FY19) - RIF Zone H', 'Matt Tilke', 'TRAFFIC', 'DESIGN', 5.000000e+05, '2/5/2019', '', 'Construction of permanent traffic signals at Alma Drive at Henneman, Alma Pedestrian Signal, and Stacy at Collin McKinney.', 'Design underway as of February 2019.')\n",
      " ('TR1846', 'Traffic Signalization (FY19) - RIF Zone I', 'Matt Tilke', 'TRAFFIC', 'DESIGN', 4.000000e+05, '2/5/2019', '', 'Construction of permanent traffic signals at Lake Forest at Collin McKinney and Stacy at Collin McKinney', 'Design underway as of February 2019.')\n",
      " ('TR1847', 'US 380 Illumination (Coit - Custer)', 'Matt Tilke', 'TRAFFIC', 'DESIGN', 1.500000e+05, '', '', 'ILA for installation of median illumination', 'Design underway.')\n",
      " ('TR1849', 'Traffic Signal Detection Upgrades', 'Matt Tilke', 'TRAFFIC', 'PLANNING', 4.000000e+05, '', '', 'Various traffic signal detection upgrades.', 'Planning Underway.')\n",
      " ('TR1850', 'Citywide Future Roundabout Planning & Evaluation', 'Nick Ataie', 'TRAFFIC', 'PLANNING', 1.000000e+05, '11/2/2018', '', 'Inital feasibility study of citywide roundabout installations including review of City roundabout policies.', 'Study underway.')\n",
      " ('TR4235', 'Traffic Signal Controller Upgrade', 'Matt Tilke', 'TRAFFIC', 'DESIGN', 1.000000e+05, '', '', 'Various upgrades to existing traffic signal controllers.', 'Controller programming underway.')\n",
      " ('WA1610', 'Service Line Replacement - Residential 10 Year', 'Public Works', 'WATER', 'CONSTRUCTION', 9.000000e+05, '11/10/2016', '12/1/2026', 'Replacement of substandard water service lines as identified by Public Works (ongoing).', 'https://www.mckinneytexas.org/1702/Water-Service-Line-Replacement-Project')\n",
      " ('WA1624', 'Redbud Pump Station Transmission Line (794 PP)', 'Blake Sills', 'WATER', 'CONSTRUCTION', 5.670000e+06, '11/18/2016', '4/8/2019', 'Design and construct the master planned 794 PP discharge line for the Rebud Pump Station project.', 'Construction substantially complete.')\n",
      " ('WA1625', 'University Pump Station - 920 PP Pump', 'Paul Tucker', 'WATER', 'BIDDING', 1.515000e+06, '2/7/2018', '10/30/2020', 'Add 1 - 15 MGD pump for the 920 pressure plane.  The work will include the addition of a medium voltage Variable Frequency Drive (VFD) for proposed Pump No. 7 and the replacement of an existing medium voltage VFD for existing Pump No. 2 along with all the', 'Design complete. Construction estimated to begin Summer of 2019.')\n",
      " ('WA1626', 'McKinney Ranch Pump Station Improvements (Phase 1)', 'Paul Tucker', 'WATER', 'DESIGN', 4.725000e+06, '5/19/2017', '8/5/2020', 'Replacement of 5 pumps including electrical switchgear that serve the 920 pressure plane.  Public Works has identified 5 pumps that are in need of replacement.', 'Design underway as of November 2018.')\n",
      " ('WA1630', 'Custer Road Utility Relocations (US380 to FM1461)', 'Joshua Cotton', 'WATER', 'DESIGN', 4.700000e+06, '12/21/2017', '9/1/2020', 'Custer Road Utility Relocations from US380 to FM1461:\\xa0\\xa0Relocate existing water lines including 8-inch and smaller and Replace\\xa0with a\\xa0Master Planned 24-inch water line', 'Design underway as of January 2018. Construction estimated to begin late Summer 2019 dependant on acquisition of necessary easements.')\n",
      " ('WA1713', 'Miscellaneous Pump Station Improvements', 'Paul Tucker', 'WATER', 'PLANNED IMPROVEMENT', 2.000000e+05, '', '', 'Umbrella funding for miscellaneous pump station improvements per the direction of the Public Works Department.', 'No improvements planned at this time.')\n",
      " ('WA1805', 'Virginia Elevated Storage Tank Maintenance', 'Paul Tucker', 'WATER', 'CONSTRUCTION', 1.000000e+06, '1/18/2018', '8/10/2019', 'Repainting of the Virginia elevated storage tank.', 'Construction underway as of February, 2019. During construction a protective shroud will be installed over the tank to protect the surrounding area from the painting process. There will be no disruption to water service in the area.')\n",
      " ('WA1810', 'NTMWD\\xa0Meter Vault\\xa0- Redbud Pump Station', 'Paul Tucker', 'WATER', 'CONSTRUCTION', 2.471250e+06, '6/16/2016', '8/10/2019', 'Construction costs assoicated with the NTMWD meter vault located at the Redbud Pump Station facility.', 'Construction underway (NTMWD Project).')\n",
      " ('WA4202', 'Water Master Plan 2018', 'Paul Tucker', 'WATER', 'DESIGN', 2.200000e+05, '2/7/2018', '', 'Water Master Plan and Utility Impact Fee Updates', 'Study underway.')\n",
      " ('WA4336', 'Substandard Mains (Water)', 'Nick Ataie', 'WATER', 'PLANNING', 1.056655e+06, '5/3/2018', '', 'Umbrella funding source for replacement of substandard water mains as identified by Public Works.', '')\n",
      " ('WA4337', 'Undesignated Oversize Participation (Water)', 'Paul Tucker', 'WATER', 'PLANNED IMPROVEMENT', 3.000000e+05, '', '', 'Undesignated oversize participation (wastewater infrastructure) for development projects.', '')\n",
      " ('WA4339', 'Airport South & Harry McKillop Water Mains', 'Jason Horn', 'WATER', 'PLANNED IMPROVEMENT', 3.300000e+06, '', '', 'Master planned 24\" water mains', 'Design to begin in 2019.')\n",
      " ('WA4340', 'Redbud Pump Station Transmission Line (850 PP)', 'Blake Sills', 'WATER', 'BIDDING', 8.235000e+06, '2/21/2017', '2/3/2020', 'Design and construct the master planned 850 PP discharge line for Redbud Pump Station project.', 'Design underway as of February 2017. Construction expected to begin Summer 2019 dependant on acquisition of necessary easements.')\n",
      " ('WA4341', 'FM 546 Water Line', 'Jason Horn', 'WATER', 'PLANNED IMPROVEMENT', 0.000000e+00, '', '', 'Master planned 24\" water main.', 'Design to begin in 2019.')\n",
      " ('WA4371', 'Willowwood Easement/ROW', 'Nick Ataie', 'WATER', 'PLANNED IMPROVEMENT', 3.000000e+05, '', '', 'Easements & ROW', '')\n",
      " ('WA4415', 'US 380 Water Line Improvements', 'Jason Horn', 'WATER', 'CONSTRUCTION', 4.735000e+06, '2/7/2017', '8/28/2019', '8 inch to 24 inch water line to replace existing 8 inch water line from west of Custer to the west side of Redbud Estates along US 380 in addition to a waterline crossing under Custer Rd', 'Construction underway as of November 2018.')\n",
      " ('WA8132', 'Redbud Pump Station Site Development', 'Paul Tucker', 'WATER', 'CONSTRUCTION', 2.570000e+07, '6/16/2016', '10/17/2019', 'Design and construction of the pump station facility (pumps and ground storage tank) to serve the 850 and 794 pressure planes of the water distribution system. ', 'Construction underway as of March 2018.')\n",
      " ('WA9145', 'Virginia Parkway Water Line Adjustments (Bellegrove - US 75)', 'Blake Sills', 'WATER', 'CONSTRUCTION', 1.045000e+06, '10/17/2013', '6/30/2019', 'Replacement of 12\" waterline along Virginia Parkway', 'Construction substantially complete.')\n",
      " ('WW1638', 'Honey Creek SS Trunk Main to MH-HC124', 'Paul Tucker', 'WASTEWATER', 'PLANNING', 1.450000e+06, '', '', 'Construction of master planned 36\" to 48\" wastewater trunk main along Honey Creek.', 'Design to begin in 2019.')\n",
      " ('WW1853', 'Lift Station Improvements', 'Paul Tucker', 'WASTEWATER', 'PLANNING', 5.000000e+05, '', '', 'Planned improvements to five (5) existing lift stations to increase capacity and service life.', 'Design to begin in 2019.')\n",
      " ('WW1855', 'Wastewater Main CIPP Lining', 'Paul Tucker', 'WASTEWATER', 'CONSTRUCTION', 2.428721e+06, '', '9/30/2019', 'Cured-In-Place-Pipe (CIPP) lining of existing large diameter wastewater trunk mains identified by Public Works as being in substandard condition.', 'Construction underway as of November 2018.')\n",
      " ('WW2245', 'Aerial Wastewater Crossing Improvements – Erwin Avenue', 'Aniswarie Kanamazina', 'WASTEWATER', 'CONSTRUCTION', 5.045000e+05, '4/21/2015', '8/8/2019', 'Replace existing 8-inch sanitary sewer crossing.', 'Construction underway as of March 2019.')\n",
      " ('WW4209', 'Wastewater Master Plan 2018', 'Paul Tucker', 'WASTEWATER', 'DESIGN', 3.440000e+05, '2/7/2018', '', 'Wastewater Master Plan and Utility Impact Fee Updates', 'Study underway.')\n",
      " ('WW4213', 'Oversize Participation Bloomdale (Stover Creek)', 'Paul Tucker', 'WASTEWATER', 'CONSTRUCTION', 3.672697e+06, '9/15/2015', '12/31/2019', '10,500 LF of 24 inch sanitary sewer trunk line along Stover Creek.', 'Construction underway as of February 2019.')\n",
      " ('WW4239', 'Oversize Participation Gravity Sewer Main from Lift Station H', 'Paul Tucker', 'WASTEWATER', 'PLANNED IMPROVEMENT', 1.970000e+06, '', '', '5,000 LF of 24\" master planned wastewater trunk main from Stonebridge Lift Station to existing 24\" wastewater trunk main', 'Close project.  WW4354 Undesignated Oversize Participation was used for Developer oversize reimbursement.')\n",
      " ('WW4348', 'Aerial Wastewater Crossing Improvements', 'Blake Sills', 'WASTEWATER', 'PLANNING', 4.000000e+05, '', '', 'Improvement / Reconstruction of existing wastewater aerial main crossings as identified by Public Works as being in substandard condition.', 'Design to begin in 2019.')\n",
      " ('WW4350', 'Substandard Mains (Wastewater)', 'Nick Ataie', 'WASTEWATER', 'PLANNING', 0.000000e+00, '', '', 'Umbrella funding source for replacement of substandard wastewater mains as identified by Public Works.', '')\n",
      " ('WW4351', 'Sanitary Sewer Evaluation Survey (SSES)', 'Paul Tucker', 'WASTEWATER', 'PLANNING', 6.000000e+05, '', '', 'Evaluation of wastewater basins noted with high inflow and infiltration amounts to determine to identify the I&I sources.  The long term wastewater meter project by Public Works will identify the sewer basins with high I&I for the study.', 'Project completed.')\n",
      " ('WW4354', 'Undesignated Oversize Participation (Wastewater)', 'Paul Tucker', 'WASTEWATER', 'PLANNED IMPROVEMENT', 3.000000e+05, '', '', 'Undesignated oversize participation (wastewater infrastructure) for development projects.', '')\n",
      " ('WW4404', 'Sanitary Sewer Condition Assessments', 'Paul Tucker', 'WASTEWATER', 'PLANNING', 5.574700e+05, '5/22/2018', '', 'Provide condition assessments for the various components of the sanitary sewer collection system.', 'Project completed.')]\n"
     ]
    }
   ],
   "source": [
    "fromPandas_array = np.array(np.rec.fromrecords(df.values))\n",
    "fromPandas_columns = df.dtypes.index.tolist()\n",
    "fromPandas_array.dtype.names = tuple(fromPandas_columns)\n",
    "print(f\"These are our column names: \\n{fromPandas_columns}\")\n",
    "print()\n",
    "print(f\"This is an array: \\n{fromPandas_array}\")"
   ]
  },
  {
   "cell_type": "markdown",
   "metadata": {
    "slideshow": {
     "slide_type": "subslide"
    }
   },
   "source": [
    "## NumPy Array to Esri Table"
   ]
  },
  {
   "cell_type": "markdown",
   "metadata": {
    "slideshow": {
     "slide_type": "fragment"
    }
   },
   "source": [
    "With an `array` in hand, let's push it into a temporary table"
   ]
  },
  {
   "cell_type": "markdown",
   "metadata": {
    "slideshow": {
     "slide_type": "fragment"
    }
   },
   "source": [
    "We have two workspace options for this:\n",
    "- Scratch GDB\n",
    "- In-memory"
   ]
  },
  {
   "cell_type": "code",
   "execution_count": 13,
   "metadata": {
    "slideshow": {
     "slide_type": "fragment"
    }
   },
   "outputs": [],
   "source": [
    "disk_table = r\"%scratchGDB%\\CIP\"\n",
    "memory_table = r\"in_memory\\CIP\""
   ]
  },
  {
   "cell_type": "markdown",
   "metadata": {
    "slideshow": {
     "slide_type": "subslide"
    }
   },
   "source": [
    "Now we'll run an ArcPy tool from the Data Access module"
   ]
  },
  {
   "cell_type": "markdown",
   "metadata": {
    "slideshow": {
     "slide_type": "fragment"
    }
   },
   "source": [
    "`NumPyArrayToTable (in_array, out_table)`"
   ]
  },
  {
   "cell_type": "markdown",
   "metadata": {
    "slideshow": {
     "slide_type": "fragment"
    }
   },
   "source": [
    "This will accept our `fromPandas_array` as input, and will output to our table location"
   ]
  },
  {
   "cell_type": "code",
   "execution_count": 14,
   "metadata": {
    "slideshow": {
     "slide_type": "subslide"
    }
   },
   "outputs": [
    {
     "name": "stdout",
     "output_type": "stream",
     "text": [
      "Transferred to memory\n"
     ]
    },
    {
     "ename": "RuntimeError",
     "evalue": "table '%scratchGDB%\\CIP' Exists",
     "output_type": "error",
     "traceback": [
      "\u001b[1;31m---------------------------------------------------------------------------\u001b[0m",
      "\u001b[1;31mRuntimeError\u001b[0m                              Traceback (most recent call last)",
      "\u001b[1;32m<ipython-input-14-999c3c24707a>\u001b[0m in \u001b[0;36m<module>\u001b[1;34m()\u001b[0m\n\u001b[0;32m      1\u001b[0m \u001b[0marcpy\u001b[0m\u001b[1;33m.\u001b[0m\u001b[0mda\u001b[0m\u001b[1;33m.\u001b[0m\u001b[0mNumPyArrayToTable\u001b[0m\u001b[1;33m(\u001b[0m\u001b[0mfromPandas_array\u001b[0m\u001b[1;33m,\u001b[0m \u001b[0mmemory_table\u001b[0m\u001b[1;33m)\u001b[0m\u001b[1;33m\u001b[0m\u001b[0m\n\u001b[0;32m      2\u001b[0m \u001b[0mprint\u001b[0m\u001b[1;33m(\u001b[0m\u001b[1;34m\"Transferred to memory\"\u001b[0m\u001b[1;33m)\u001b[0m\u001b[1;33m\u001b[0m\u001b[0m\n\u001b[1;32m----> 3\u001b[1;33m \u001b[0marcpy\u001b[0m\u001b[1;33m.\u001b[0m\u001b[0mda\u001b[0m\u001b[1;33m.\u001b[0m\u001b[0mNumPyArrayToTable\u001b[0m\u001b[1;33m(\u001b[0m\u001b[0mfromPandas_array\u001b[0m\u001b[1;33m,\u001b[0m \u001b[0mdisk_table\u001b[0m\u001b[1;33m)\u001b[0m\u001b[1;33m\u001b[0m\u001b[0m\n\u001b[0m\u001b[0;32m      4\u001b[0m \u001b[0mprint\u001b[0m\u001b[1;33m(\u001b[0m\u001b[1;34m\"Transferred to disk\"\u001b[0m\u001b[1;33m)\u001b[0m\u001b[1;33m\u001b[0m\u001b[0m\n",
      "\u001b[1;31mRuntimeError\u001b[0m: table '%scratchGDB%\\CIP' Exists"
     ]
    }
   ],
   "source": [
    "arcpy.da.NumPyArrayToTable(fromPandas_array, memory_table)\n",
    "print(\"Transferred to memory\")\n",
    "arcpy.da.NumPyArrayToTable(fromPandas_array, disk_table)\n",
    "print(\"Transferred to disk\")"
   ]
  },
  {
   "cell_type": "code",
   "execution_count": 15,
   "metadata": {
    "slideshow": {
     "slide_type": "subslide"
    }
   },
   "outputs": [
    {
     "name": "stdout",
     "output_type": "stream",
     "text": [
      "Previous CIP Google Sheet Table found in Scratch. Deleting now.\n",
      "Previous CIP Google Sheet Table found in Memory. Deleting now.\n"
     ]
    }
   ],
   "source": [
    "if arcpy.Exists(disk_table):\n",
    "\tprint(\"Previous CIP Google Sheet Table found in Scratch. Deleting now.\")\n",
    "\tarcpy.Delete_management(disk_table)\n",
    "    \n",
    "if arcpy.Exists(memory_table):\n",
    "\tprint(\"Previous CIP Google Sheet Table found in Memory. Deleting now.\")\n",
    "\tarcpy.Delete_management(memory_table)"
   ]
  },
  {
   "cell_type": "code",
   "execution_count": 16,
   "metadata": {
    "slideshow": {
     "slide_type": "subslide"
    }
   },
   "outputs": [
    {
     "name": "stdout",
     "output_type": "stream",
     "text": [
      "Transferred to memory\n",
      "Transferred to disk\n"
     ]
    }
   ],
   "source": [
    "arcpy.da.NumPyArrayToTable(fromPandas_array, memory_table)\n",
    "print(\"Transferred to memory\")\n",
    "arcpy.da.NumPyArrayToTable(fromPandas_array, disk_table)\n",
    "print(\"Transferred to disk\")"
   ]
  },
  {
   "cell_type": "code",
   "execution_count": 17,
   "metadata": {
    "slideshow": {
     "slide_type": "subslide"
    }
   },
   "outputs": [
    {
     "name": "stdout",
     "output_type": "stream",
     "text": [
      "Here are some field names: \n",
      "['OBJECTID', 'Project_No', 'Project_Name', 'City_Contact', 'Project_Type', 'Project_Status', 'Project_Funding', 'Project_Start_Date', 'Estimated_Project_Completion_Date', 'Project_Description', 'Project_Notes'] \n",
      "\n",
      "Here are some field types: \n",
      "['OID', 'String', 'String', 'String', 'String', 'String', 'Double', 'String', 'String', 'String', 'String']\n"
     ]
    }
   ],
   "source": [
    "field_names = [f.name for f in arcpy.ListFields(memory_table)]\n",
    "field_types = [f.type for f in arcpy.ListFields(disk_table)]\n",
    "print(f\"Here are some field names: \\n{field_names} \\n\\nHere are some field types: \\n{field_types}\")"
   ]
  },
  {
   "cell_type": "markdown",
   "metadata": {
    "slideshow": {
     "slide_type": "subslide"
    }
   },
   "source": [
    "## Table Additions and Calculations"
   ]
  },
  {
   "cell_type": "markdown",
   "metadata": {
    "slideshow": {
     "slide_type": "fragment"
    }
   },
   "source": [
    "This next bit is something of a work-around"
   ]
  },
  {
   "cell_type": "markdown",
   "metadata": {
    "slideshow": {
     "slide_type": "fragment"
    }
   },
   "source": [
    "We'll need to convert our dates and also run a new general status rule"
   ]
  },
  {
   "cell_type": "markdown",
   "metadata": {
    "slideshow": {
     "slide_type": "subslide"
    }
   },
   "source": [
    "A quick call to:<br><br> `arcpy.AddField_management (in_table, field_name, field_type, ...)`"
   ]
  },
  {
   "cell_type": "markdown",
   "metadata": {
    "slideshow": {
     "slide_type": "fragment"
    }
   },
   "source": [
    "```python\n",
    "arcpy.AddField_management(googletable, \"StartDate\", \"DATE\")\n",
    "arcpy.AddField_management(googletable, \"CompleteDate\", \"DATE\")\n",
    "arcpy.AddField_management(googletable, \"GeneralStatus\", \"TEXT\", field_length=50)\n",
    "```"
   ]
  },
  {
   "cell_type": "markdown",
   "metadata": {
    "slideshow": {
     "slide_type": "subslide"
    }
   },
   "source": [
    "Next we'll call:<br><br> \n",
    "`arcpy.CalculateField_management (in_table, field, expression, {expression_type}, {code_block})`"
   ]
  },
  {
   "cell_type": "markdown",
   "metadata": {
    "slideshow": {
     "slide_type": "fragment"
    }
   },
   "source": [
    "```python\n",
    "arcpy.CalculateField_management(in_table, \"Field_Name\",\n",
    "                                \"python_method(!Field_Name!)\",\n",
    "                                \"PYTHON3\", code_block)\n",
    "```"
   ]
  },
  {
   "cell_type": "markdown",
   "metadata": {
    "slideshow": {
     "slide_type": "fragment"
    }
   },
   "source": [
    "The optional parameter `codeblock` requires some further explanation"
   ]
  },
  {
   "cell_type": "markdown",
   "metadata": {
    "slideshow": {
     "slide_type": "subslide"
    }
   },
   "source": [
    "This is our `date_codeblock`"
   ]
  },
  {
   "cell_type": "markdown",
   "metadata": {
    "slideshow": {
     "slide_type": "fragment"
    }
   },
   "source": [
    "```python\n",
    "def skip_nulls(field):\n",
    "    if field != '':\n",
    "        return field\n",
    "    else:\n",
    "        return\n",
    "```      "
   ]
  },
  {
   "cell_type": "markdown",
   "metadata": {
    "slideshow": {
     "slide_type": "subslide"
    }
   },
   "source": [
    "We'll need to wrap it in `\"\"\"` to feed it into the ArcPy parameter"
   ]
  },
  {
   "cell_type": "markdown",
   "metadata": {
    "slideshow": {
     "slide_type": "fragment"
    }
   },
   "source": [
    "```python\n",
    "date_codeblock = \"\"\"\n",
    "def skip_nulls(field):\n",
    "    if field != '':\n",
    "        return field\n",
    "    else:\n",
    "        return\"\"\"\n",
    "```      "
   ]
  },
  {
   "cell_type": "markdown",
   "metadata": {
    "slideshow": {
     "slide_type": "subslide"
    }
   },
   "source": [
    "This is our `status_codeblock`"
   ]
  },
  {
   "cell_type": "markdown",
   "metadata": {
    "slideshow": {
     "slide_type": "fragment"
    }
   },
   "source": [
    "```python\n",
    "def general_status(field):\n",
    "    if field in [\"PLANNING\", \"PLANNED IMPROVEMENT\"]:\n",
    "        return \"PLANNED IMPROVEMENT\"\n",
    "    elif field in [\"DESIGN\", \"BIDDING\", \"LAND ACQUISITION\", \"FRANCHISE RELOCATION\"]:\n",
    "        return \"DESIGN\"\n",
    "    elif field == \"CONSTRUCTION\":\n",
    "        return \"CONSTRUCTION\"\n",
    "    elif field == \"COMPLETE\":\n",
    "        return \"COMPLETE\"\n",
    "    else:\n",
    "        return\n",
    "```      "
   ]
  },
  {
   "cell_type": "markdown",
   "metadata": {
    "slideshow": {
     "slide_type": "subslide"
    }
   },
   "source": [
    "We've made more progress!"
   ]
  },
  {
   "cell_type": "code",
   "execution_count": 18,
   "metadata": {
    "slideshow": {
     "slide_type": "fragment"
    }
   },
   "outputs": [
    {
     "name": "stdout",
     "output_type": "stream",
     "text": [
      "Converting CIP Google Sheet from CSV to Table in memory.\n",
      "Adding new fields to CIP Google Sheet Table.\n"
     ]
    },
    {
     "data": {
      "text/plain": [
       "<Result 'in_memory\\\\CIP_Google_Sheet_Table'>"
      ]
     },
     "execution_count": 18,
     "metadata": {},
     "output_type": "execute_result"
    }
   ],
   "source": [
    "input_array = np.array(np.rec.fromrecords(df.values)) #create numpy array from pandas dataframe\n",
    "col_names = df.dtypes.index.tolist() #grab column names from pandas dataframe as a list\n",
    "input_array.dtype.names = tuple(col_names) #set column names in numpy array   \n",
    "\n",
    "#googletable = r'%scratchGDB%\\CIP_Google_Sheet_Table'\n",
    "googletable = r'in_memory\\CIP_Google_Sheet_Table'\n",
    "\n",
    "#check needed if loop continues past 1st iteration, OR if using ScratchGDB\n",
    "if arcpy.Exists(googletable):\n",
    "\tprint(\"Previous CIP Google Sheet Table found. Deleting now.\")\n",
    "\tarcpy.Delete_management(googletable)\n",
    "arcpy.da.NumPyArrayToTable(input_array, googletable)\n",
    "print(\"Converting CIP Google Sheet from CSV to Table in memory.\")\n",
    "print(\"Adding new fields to CIP Google Sheet Table.\")\n",
    "\n",
    "arcpy.AddField_management(googletable, \"StartDate\", \"DATE\")\n",
    "arcpy.AddField_management(googletable, \"CompleteDate\", \"DATE\")\n",
    "arcpy.AddField_management(googletable, \"GeneralStatus\", \"TEXT\", field_length=50)"
   ]
  },
  {
   "cell_type": "code",
   "execution_count": 19,
   "metadata": {
    "slideshow": {
     "slide_type": "subslide"
    }
   },
   "outputs": [
    {
     "name": "stdout",
     "output_type": "stream",
     "text": [
      "Calculating new date fields in CIP Google Sheet Table.\n",
      "Calculating general status field in CIP Google Sheet Table.\n"
     ]
    },
    {
     "data": {
      "text/plain": [
       "<Result 'in_memory\\\\CIP_Google_Sheet_Table'>"
      ]
     },
     "execution_count": 19,
     "metadata": {},
     "output_type": "execute_result"
    }
   ],
   "source": [
    "print(\"Calculating new date fields in CIP Google Sheet Table.\")\n",
    "date_codeblock = \"\"\"def skip_nulls(field):\n",
    "\tif field != '':\n",
    "\t\treturn field\n",
    "\telse:\n",
    "\t\treturn\"\"\"       \n",
    "arcpy.CalculateField_management(googletable, \"StartDate\", \"skip_nulls(!Project_Start_Date!)\", \n",
    "                                \"PYTHON3\", date_codeblock)\n",
    "arcpy.CalculateField_management(googletable, \"CompleteDate\", \"skip_nulls(!Estimated_Project_Completion_Date!)\", \n",
    "                                \"PYTHON3\", date_codeblock)\n",
    "\n",
    "print(\"Calculating general status field in CIP Google Sheet Table.\")\n",
    "status_codeblock = \"\"\"def general_status(field):\n",
    "\tif field in [\"PLANNING\", \"PLANNED IMPROVEMENT\"]:\n",
    "\t\treturn \"PLANNED IMPROVEMENT\"\n",
    "\telif field in [\"DESIGN\", \"BIDDING\", \"LAND ACQUISITION\", \"FRANCHISE RELOCATION\"]:\n",
    "\t\treturn \"DESIGN\"\n",
    "\telif field == \"CONSTRUCTION\":\n",
    "\t\treturn \"CONSTRUCTION\"\n",
    "\telif field == \"COMPLETE\":\n",
    "\t\treturn \"COMPLETE\"\n",
    "\telse:\n",
    "\t\treturn\"\"\"\n",
    "arcpy.CalculateField_management(googletable, \"GeneralStatus\", \"general_status(!Project_Status!)\", \n",
    "                                \"PYTHON3\", status_codeblock)"
   ]
  },
  {
   "cell_type": "markdown",
   "metadata": {
    "slideshow": {
     "slide_type": "slide"
    }
   },
   "source": [
    "# <center> Code Part III"
   ]
  },
  {
   "cell_type": "markdown",
   "metadata": {
    "slideshow": {
     "slide_type": "fragment"
    }
   },
   "source": [
    "## <center> Managing Your&nbsp;&nbsp;<i>Chuck&nbsp;&nbsp;Wagon</i>"
   ]
  },
  {
   "cell_type": "markdown",
   "metadata": {
    "slideshow": {
     "slide_type": "fragment"
    }
   },
   "source": [
    "#### <br>\n",
    "#### <center> Making SDE Connections\n",
    "#### <center> Checking Versions\n",
    "#### <center> New Item Maintenance"
   ]
  },
  {
   "cell_type": "markdown",
   "metadata": {
    "slideshow": {
     "slide_type": "subslide"
    }
   },
   "source": [
    "## Making SDE Connections"
   ]
  },
  {
   "cell_type": "markdown",
   "metadata": {
    "slideshow": {
     "slide_type": "fragment"
    }
   },
   "source": [
    "Let's make sure that we connect to our SDE"
   ]
  },
  {
   "cell_type": "markdown",
   "metadata": {
    "slideshow": {
     "slide_type": "fragment"
    }
   },
   "source": [
    "We'll create a fresh path each time using `tempfile.mkdtemp()` and assign it to a variable"
   ]
  },
  {
   "cell_type": "code",
   "execution_count": 20,
   "metadata": {
    "slideshow": {
     "slide_type": "subslide"
    }
   },
   "outputs": [],
   "source": [
    "sdeTempPath = tempfile.mkdtemp()"
   ]
  },
  {
   "cell_type": "markdown",
   "metadata": {
    "slideshow": {
     "slide_type": "fragment"
    }
   },
   "source": [
    "Now we'll call<br><br> \n",
    "`arcpy.CreateDatabaseConnection_management (out_folder_path, out_name, database_platform, instance, ...)`"
   ]
  },
  {
   "cell_type": "code",
   "execution_count": 21,
   "metadata": {
    "slideshow": {
     "slide_type": "subslide"
    }
   },
   "outputs": [
    {
     "data": {
      "text/plain": [
       "<Result 'C:\\\\Users\\\\jcarmona\\\\AppData\\\\Local\\\\Temp\\\\tmpdt90c0ts\\\\Editor.sde'>"
      ]
     },
     "execution_count": 21,
     "metadata": {},
     "output_type": "execute_result"
    }
   ],
   "source": [
    "arcpy.CreateDatabaseConnection_management(sdeTempPath, \"Editor.sde\",\n",
    "                                          \"SQL_SERVER\", \"ITT701\",\n",
    "                                          account_authentication = \"OPERATING_SYSTEM_AUTH\")"
   ]
  },
  {
   "cell_type": "code",
   "execution_count": 22,
   "metadata": {
    "slideshow": {
     "slide_type": "fragment"
    }
   },
   "outputs": [
    {
     "name": "stdout",
     "output_type": "stream",
     "text": [
      "C:\\Users\\jcarmona\\AppData\\Local\\Temp\\tmpdt90c0ts\\Editor.sde\n"
     ]
    }
   ],
   "source": [
    "EditSDE = os.path.join(sdeTempPath, \"Editor.sde\")\n",
    "print(EditSDE)"
   ]
  },
  {
   "cell_type": "markdown",
   "metadata": {
    "slideshow": {
     "slide_type": "subslide"
    }
   },
   "source": [
    "## Checking Versions"
   ]
  },
  {
   "cell_type": "markdown",
   "metadata": {
    "slideshow": {
     "slide_type": "fragment"
    }
   },
   "source": [
    "Let's assume we're being good and not editing the default instance"
   ]
  },
  {
   "cell_type": "markdown",
   "metadata": {
    "slideshow": {
     "slide_type": "fragment"
    }
   },
   "source": [
    "We'll need to do the following:\n",
    "- check if our version exists\n",
    "- make it if it doesn't"
   ]
  },
  {
   "cell_type": "markdown",
   "metadata": {
    "slideshow": {
     "slide_type": "subslide"
    }
   },
   "source": [
    "We'll iterate through the `arcpy.da.ListVersions()` function<br>\n",
    "Adding each version name to `sdeVersionLIST`<br>\n",
    "If we find our version, we'll check to make sure the description is filled out<br>"
   ]
  },
  {
   "cell_type": "code",
   "execution_count": null,
   "metadata": {
    "slideshow": {
     "slide_type": "fragment"
    }
   },
   "outputs": [],
   "source": [
    "#psst Jordan don't run this. It breaks. xoxo Jordan\n",
    "sdeVersionLIST = []\n",
    "for version in arcpy.da.ListVersions(EditSDE):\n",
    "    sdeVersionName = version.name.split(\".\")[0]\n",
    "    sdeVersionLIST.append(sdeVersionName)\n",
    "    if sdeVersionName == '\"MCKINNEY\\\\JCARMONA\"':\n",
    "        if version.description == \"\":\n",
    "            print(\"No description found. Fixing.\")\n",
    "            arcpy.AlterVersion_management(EditSDE, '\"MCKINNEY\\JCARMONA\".CARMONA', \n",
    "                                          description = \"jcarmona@mckinneytexas.org | ext 7422\")"
   ]
  },
  {
   "cell_type": "markdown",
   "metadata": {
    "slideshow": {
     "slide_type": "subslide"
    }
   },
   "source": [
    "Now we have a `list` of all the versions<br>\n",
    "We'll use `not in` to find our missing version"
   ]
  },
  {
   "cell_type": "code",
   "execution_count": null,
   "metadata": {
    "slideshow": {
     "slide_type": "fragment"
    }
   },
   "outputs": [],
   "source": [
    "if '\"MCKINNEY\\\\JCARMONA\"' not in sdeVersionLIST:\n",
    "    print(\"\\tCARMONA version not found, creating now.\")\n",
    "    arcpy.CreateVersion_management(EditSDE,\"sde.DEFAULT\" ,\"CARMONA\", \"PUBLIC\")\n",
    "    arcpy.AlterVersion_management(EditSDE, '\"MCKINNEY\\JCARMONA\".CARMONA', \n",
    "                                  description = \"jcarmona@mckinneytexas.org | ext 7422\")\n",
    "    print(\"Version created.\")\n",
    "else:\n",
    "    print(\"\\tCARMONA version exists, connecting now.\")\n",
    "    arcpy.CreateDatabaseConnection_management(sdeTempPath, \"CARMONA.sde\", \"SQL_SERVER\", \n",
    "                                              instance, \"OPERATING_SYSTEM_AUTH\", \n",
    "                                              version = '\"MCKINNEY\\JCARMONA\".CARMONA')"
   ]
  },
  {
   "cell_type": "markdown",
   "metadata": {
    "slideshow": {
     "slide_type": "subslide"
    }
   },
   "source": [
    "## New Item Maintenance"
   ]
  },
  {
   "cell_type": "markdown",
   "metadata": {
    "slideshow": {
     "slide_type": "fragment"
    }
   },
   "source": [
    "Sometimes something new crops up"
   ]
  },
  {
   "cell_type": "markdown",
   "metadata": {
    "slideshow": {
     "slide_type": "fragment"
    }
   },
   "source": [
    "If our goal is a set it / forget it solution<br>\n",
    "We need to add in a mechanism to alert us"
   ]
  },
  {
   "cell_type": "markdown",
   "metadata": {
    "slideshow": {
     "slide_type": "subslide"
    }
   },
   "source": [
    "We'll make a `list` to store our CIP project number codes from the Google Sheet<br><br>\n",
    "A `cursor` will help us create a second `list` of CIP projects from our SDE<br><br>\n",
    "Then we'll check them against each other to create a final `list` for inclusion in our alert"
   ]
  },
  {
   "cell_type": "code",
   "execution_count": 23,
   "metadata": {
    "slideshow": {
     "slide_type": "subslide"
    }
   },
   "outputs": [
    {
     "name": "stdout",
     "output_type": "stream",
     "text": [
      "Checking CIP Google Sheet Table for new projects.\n",
      "\tThe following projects are new: ['CO1703', 'CO1909']\n"
     ]
    }
   ],
   "source": [
    "sde_CIP1923 = os.path.join(EditSDE, \"SDE.DBO.DemoSection_CIP1923\")\n",
    "list_googleprojects = df['Project No'].tolist()\n",
    "list_sde = []\n",
    "list_email = []\n",
    "print(\"Checking CIP Google Sheet Table for new projects.\")\n",
    "with arcpy.da.SearchCursor(sde_CIP1923, \"CIPProjectNumber\") as scursor:\n",
    "\tfor srow in scursor:\n",
    "\t\tlist_sde.append(srow[0])\n",
    "for item in list_googleprojects:\n",
    "\tif item not in list_sde:\n",
    "\t\tlist_email.append(item)\n",
    "if list_email:\n",
    "\tprint(f\"\\tThe following projects are new: {list_email}\")\n",
    "\twrite_to_log(f\"The following projects are new: {list_email}\")\n",
    "else:\n",
    "\tprint(\"\\tNo new projects were found.\")"
   ]
  },
  {
   "cell_type": "markdown",
   "metadata": {
    "slideshow": {
     "slide_type": "subslide"
    }
   },
   "source": [
    "Although there is some overhead to working within the Esri SDE,"
   ]
  },
  {
   "cell_type": "markdown",
   "metadata": {
    "slideshow": {
     "slide_type": "fragment"
    }
   },
   "source": [
    "the benefits of a versioned environment are immense."
   ]
  },
  {
   "cell_type": "markdown",
   "metadata": {
    "slideshow": {
     "slide_type": "fragment"
    }
   },
   "source": [
    "We're also informed if we need to do some manual labor!"
   ]
  },
  {
   "cell_type": "code",
   "execution_count": 24,
   "metadata": {
    "slideshow": {
     "slide_type": "subslide"
    }
   },
   "outputs": [
    {
     "name": "stdout",
     "output_type": "stream",
     "text": [
      "Connecting to the SDE and appropriate version.\n",
      "\tCarmonaVersion version exists, connecting now.\n"
     ]
    }
   ],
   "source": [
    "print(\"Connecting to the SDE and appropriate version.\")\n",
    "sdeTempPath = tempfile.mkdtemp()\n",
    "arcpy.CreateDatabaseConnection_management(sdeTempPath, \"Editor.sde\", \"SQL_SERVER\", \n",
    "                                          \"ITT701\", \"OPERATING_SYSTEM_AUTH\")\n",
    "EditSDE = os.path.join(sdeTempPath, \"Editor.sde\")\n",
    "sdeVersionNameFULL = \"\"\n",
    "sdeVersionLIST = []\n",
    "for version in arcpy.da.ListVersions(EditSDE):\n",
    "\tsdeVersionLIST.append(version.name)\n",
    "\tif version.name == \"DBO.CarmonaVersion\":\n",
    "\t\tif version.description == \"\":\n",
    "\t\t\tarcpy.AlterVersion_management(EditSDE, \"CarmonaVersion\", \n",
    "                                          description = \"jcarmona@mckinneytexas.org | ext 7422\")\n",
    "if \"DBO.CarmonaVersion\" not in sdeVersionLIST:\n",
    "\tprint(\"\\tCarmona version not found, creating now.\")\n",
    "\tarcpy.CreateVersion_management(EditSDE, \"sde.DEFAULT\" ,\"CarmonaVersion\", \"PUBLIC\")\n",
    "\tarcpy.AlterVersion_management(EditSDE, \"CarmonaVersion\", \n",
    "                                  description = \"jcarmona@mckinneytexas.org | ext 7422\")\n",
    "\tprint(\"CarmonaVersion created.\")\n",
    "else:\n",
    "\tprint(\"\\tCarmonaVersion version exists, connecting now.\")\n",
    "\tarcpy.CreateDatabaseConnection_management(sdeTempPath, \"Carmona.sde\", \"SQL_SERVER\", \"ITT701\",\n",
    "                                              \"OPERATING_SYSTEM_AUTH\", version = \"DBO.CarmonaVersion\")"
   ]
  },
  {
   "cell_type": "code",
   "execution_count": 25,
   "metadata": {
    "slideshow": {
     "slide_type": "subslide"
    }
   },
   "outputs": [
    {
     "name": "stdout",
     "output_type": "stream",
     "text": [
      "Checking CIP Google Sheet Table for new projects.\n",
      "\tThe following projects are new: ['CO1703', 'CO1909']\n"
     ]
    }
   ],
   "source": [
    "EditSDE_Carmona = os.path.join(sdeTempPath, \"Carmona.sde\")\n",
    "sde_CIP1923 = os.path.join(EditSDE_Carmona, \"SDE.DBO.DemoSection_CIP1923\")\n",
    "sde_CIPFY1923 = os.path.join(EditSDE_Carmona, \"SDE.DBO.DemoSection_CIPFY1923\")\n",
    "sde_CIP1923_Point = os.path.join(EditSDE_Carmona, \"SDE.DBO.DemoSection_CIP1923_Point\")\n",
    "\n",
    "list_googleprojects = df['Project No'].tolist()\n",
    "list_sde = []\n",
    "list_email = []\n",
    "print(\"Checking CIP Google Sheet Table for new projects.\")\n",
    "with arcpy.da.SearchCursor(sde_CIP1923, \"CIPProjectNumber\") as scursor:\n",
    "\tfor srow in scursor:\n",
    "\t\tlist_sde.append(srow[0])\n",
    "for item in list_googleprojects:\n",
    "\tif item not in list_sde:\n",
    "\t\tlist_email.append(item)\n",
    "if list_email:\n",
    "\tprint(f\"\\tThe following projects are new: {list_email}\")\n",
    "\twrite_to_log(f\"The following projects are new: {list_email}\")\n",
    "else:\n",
    "\tprint(\"\\tNo new projects were found.\")"
   ]
  },
  {
   "cell_type": "markdown",
   "metadata": {
    "slideshow": {
     "slide_type": "slide"
    }
   },
   "source": [
    "# <center> Code Part IV"
   ]
  },
  {
   "cell_type": "markdown",
   "metadata": {
    "slideshow": {
     "slide_type": "fragment"
    }
   },
   "source": [
    "## <center>The Code<i>-ttle&nbsp;&nbsp;Drive</i>"
   ]
  },
  {
   "cell_type": "markdown",
   "metadata": {
    "slideshow": {
     "slide_type": "fragment"
    }
   },
   "source": [
    "#### <br>\n",
    "#### <center> Tandem Cursors"
   ]
  },
  {
   "cell_type": "markdown",
   "metadata": {
    "slideshow": {
     "slide_type": "subslide"
    }
   },
   "source": [
    "## Tandem Cursors"
   ]
  },
  {
   "cell_type": "markdown",
   "metadata": {
    "slideshow": {
     "slide_type": "fragment"
    }
   },
   "source": [
    "Cursors can seem a little daunting."
   ]
  },
  {
   "cell_type": "markdown",
   "metadata": {
    "slideshow": {
     "slide_type": "fragment"
    }
   },
   "source": [
    "They do require clear understanding<br>\n",
    "In order to use them effectively"
   ]
  },
  {
   "cell_type": "markdown",
   "metadata": {
    "slideshow": {
     "slide_type": "subslide"
    }
   },
   "source": [
    "At their most basic, a `cursor` is comprised of:\n",
    "- table or layer reference\n",
    "- fields to be used\n",
    "- query"
   ]
  },
  {
   "cell_type": "markdown",
   "metadata": {
    "slideshow": {
     "slide_type": "fragment"
    }
   },
   "source": [
    "There are individual cursors to:\n",
    "- search records\n",
    "- update records\n",
    "- insert records"
   ]
  },
  {
   "cell_type": "markdown",
   "metadata": {
    "slideshow": {
     "slide_type": "subslide"
    }
   },
   "source": [
    "This script uses a search cursor to iterate through our new data from the Google Sheet and an update cursor to edit the old data in the SDE"
   ]
  },
  {
   "cell_type": "code",
   "execution_count": 26,
   "metadata": {
    "slideshow": {
     "slide_type": "fragment"
    }
   },
   "outputs": [
    {
     "name": "stdout",
     "output_type": "stream",
     "text": [
      "My project number is: CO1703 --- Pearson Avenue and Related Drainage Improvements)\n",
      "My project number is: CO1704 --- Substandard Utility & Street Rehab (East of SH 5))\n",
      "My project number is: CO1705 --- Substandard Utility & Street Rehab (South of Virginia))\n",
      "My project number is: CO1706 --- Substandard Utility & Street Rehab (North of Virginia))\n",
      "My project number is: CO1902 --- Main Replacements & Street Rehab (Northwood Park / Westwood Park Area))\n",
      "My project number is: CO1909 --- Hill Street Pedestrian Bridge Replacement)\n",
      "My project number is: CO4238 --- Town Center Infrastructure Improvements)\n",
      "My project number is: CO4412 --- Southgate Infrastructure Improvements)\n",
      "My project number is: DR1646 --- Glenwood Estates Erosion Study)\n",
      "My project number is: DR1808 --- Upper Warden Creek Drainage Improvements)\n",
      "My project number is: DR1809 --- Finch Creek Drainage Improvements)\n",
      "My project number is: DR3251 --- Cottonwood Creek Unnamed Tributary Drainage Improvements)\n",
      "My project number is: DR5093 --- NRCS Lake 4 Dam Rehabilitation)\n",
      "My project number is: FA4320 --- Trinity Falls Parkway Construction)\n",
      "My project number is: ST1219 --- Virginia Parkway Lanes 5 & 6 (Bellegrove - US 75))\n",
      "My project number is: ST1231 --- Virginia Parkway Lanes 5 & 6 (Ridge – Bellegrove))\n",
      "My project number is: ST1612 --- Redbud Blvd Lanes 3&4)\n",
      "My project number is: ST1613 --- McLarry Drive Improvements)\n",
      "My project number is: ST1615 --- US 380 and Airport Intersection Improvements)\n",
      "My project number is: ST1617 --- Ridge Rd (US 380 - Wilmeth))\n",
      "My project number is: ST1618 --- Arterial Capacity Improvements FY18)\n",
      "My project number is: ST1622 --- Street Rehabilitation Umbrella)\n",
      "My project number is: ST1649 --- PROW ADA (Eastside))\n",
      "My project number is: ST1719 --- Wilmeth (Hardin to Lake Forest))\n",
      "My project number is: ST1723 --- Wilmeth (East of Redbud to SH 5))\n",
      "My project number is: ST1834 --- Accessibility Improvements (Eastside Phase 2))\n",
      "My project number is: ST1835 --- Arterial Capacity Improvements (FY19))\n",
      "My project number is: ST1837 --- Stacy Rd at Custer Rd Intersection Improvements)\n",
      "My project number is: ST1838 --- Eldorado and Custer Intersection / Bridge Improvements)\n",
      "My project number is: ST1839 --- Virginia Parkway Lanes 5 & 6 (Custer - Virginia Parklands))\n",
      "My project number is: ST1841 --- Collin McKinney Pkwy (Lake Forest - Hardin))\n",
      "My project number is: ST3212 --- Stacy Rd Lanes 5 & 6 (Custer - Ridge))\n",
      "My project number is: ST4227 --- Bloomdale Road Extension - Community to Hardin)\n",
      "My project number is: ST4331 --- Laud Howell Parkway )\n",
      "My project number is: ST4334 --- Stonebridge Drive Bridge Replacement)\n",
      "My project number is: ST4372 --- Country Lane Extension)\n",
      "My project number is: ST4375 --- Development Catalyst Project)\n",
      "My project number is: ST4422 --- Trinity Falls Parkway Link)\n",
      "My project number is: ST9115 --- Custer Road Design & ROW (US 380 – FM 1461))\n",
      "My project number is: TR1620 --- FY 17 Traffic Signals)\n",
      "My project number is: TR1702 --- Custer & Silverado Traffic Signal Installation)\n",
      "My project number is: TR1843 --- Traffic Signalization (FY19))\n",
      "My project number is: TR1844 --- Traffic Signalization (FY19) - RIF Zone G)\n",
      "My project number is: TR1845 --- Traffic Signalization (FY19) - RIF Zone H)\n",
      "My project number is: TR1846 --- Traffic Signalization (FY19) - RIF Zone I)\n",
      "My project number is: TR1847 --- US 380 Illumination (Coit - Custer))\n",
      "My project number is: TR1849 --- Traffic Signal Detection Upgrades)\n",
      "My project number is: TR1850 --- Citywide Future Roundabout Planning & Evaluation)\n",
      "My project number is: TR4235 --- Traffic Signal Controller Upgrade)\n",
      "My project number is: WA1610 --- Service Line Replacement - Residential 10 Year)\n",
      "My project number is: WA1624 --- Redbud Pump Station Transmission Line (794 PP))\n",
      "My project number is: WA1625 --- University Pump Station - 920 PP Pump)\n",
      "My project number is: WA1626 --- McKinney Ranch Pump Station Improvements (Phase 1))\n",
      "My project number is: WA1630 --- Custer Road Utility Relocations (US380 to FM1461))\n",
      "My project number is: WA1713 --- Miscellaneous Pump Station Improvements)\n",
      "My project number is: WA1805 --- Virginia Elevated Storage Tank Maintenance)\n",
      "My project number is: WA1810 --- NTMWD Meter Vault - Redbud Pump Station)\n",
      "My project number is: WA4202 --- Water Master Plan 2018)\n",
      "My project number is: WA4336 --- Substandard Mains (Water))\n",
      "My project number is: WA4337 --- Undesignated Oversize Participation (Water))\n",
      "My project number is: WA4339 --- Airport South & Harry McKillop Water Mains)\n",
      "My project number is: WA4340 --- Redbud Pump Station Transmission Line (850 PP))\n",
      "My project number is: WA4341 --- FM 546 Water Line)\n",
      "My project number is: WA4371 --- Willowwood Easement/ROW)\n",
      "My project number is: WA4415 --- US 380 Water Line Improvements)\n",
      "My project number is: WA8132 --- Redbud Pump Station Site Development)\n",
      "My project number is: WA9145 --- Virginia Parkway Water Line Adjustments (Bellegrove - US 75))\n",
      "My project number is: WW1638 --- Honey Creek SS Trunk Main to MH-HC124)\n",
      "My project number is: WW1853 --- Lift Station Improvements)\n",
      "My project number is: WW1855 --- Wastewater Main CIPP Lining)\n",
      "My project number is: WW2245 --- Aerial Wastewater Crossing Improvements – Erwin Avenue)\n",
      "My project number is: WW4209 --- Wastewater Master Plan 2018)\n",
      "My project number is: WW4213 --- Oversize Participation Bloomdale (Stover Creek))\n",
      "My project number is: WW4239 --- Oversize Participation Gravity Sewer Main from Lift Station H)\n",
      "My project number is: WW4348 --- Aerial Wastewater Crossing Improvements)\n",
      "My project number is: WW4350 --- Substandard Mains (Wastewater))\n",
      "My project number is: WW4351 --- Sanitary Sewer Evaluation Survey (SSES))\n",
      "My project number is: WW4354 --- Undesignated Oversize Participation (Wastewater))\n",
      "My project number is: WW4404 --- Sanitary Sewer Condition Assessments)\n"
     ]
    }
   ],
   "source": [
    "updatefields_google = [\"Project_No\", \"Project_Name\"]\n",
    "with arcpy.da.SearchCursor(googletable, updatefields_google) as scursor:\n",
    "    for srow in scursor:\n",
    "        print(f\"My project number is: {srow[0]} --- {srow[1]})\")"
   ]
  },
  {
   "cell_type": "code",
   "execution_count": 27,
   "metadata": {
    "slideshow": {
     "slide_type": "subslide"
    }
   },
   "outputs": [
    {
     "name": "stdout",
     "output_type": "stream",
     "text": [
      "Google project number is: CO1703 ---\n",
      "Google project number is: CO1704 ---\n",
      "\tSDE data for budget 8465000\n",
      "\tSDE data for project Substandard Utility & Street Rehab (East of SH 5)\n",
      "Google project number is: CO1705 ---\n",
      "\tSDE data for budget 3300000\n",
      "\tSDE data for project Substandard Utility & Street Rehab (South of Virginia)\n",
      "Google project number is: CO1706 ---\n",
      "\tSDE data for budget 5289000\n",
      "\tSDE data for project Substandard Utility & Street Rehab (North of Virginia)\n",
      "Google project number is: CO1902 ---\n",
      "\tSDE data for budget 4378099\n",
      "\tSDE data for project Main Replacements & Street Rehab (Northwood Park / Westwood Park Area)\n",
      "Google project number is: CO1909 ---\n",
      "Google project number is: CO4238 ---\n",
      "\tSDE data for budget 1000000\n",
      "\tSDE data for project Town Center Infrastructure Improvements\n",
      "Google project number is: CO4412 ---\n",
      "\tSDE data for budget 100000\n",
      "\tSDE data for project Southgate Infrastructure Improvements\n",
      "Google project number is: DR1646 ---\n",
      "\tSDE data for budget 550000\n",
      "\tSDE data for project Glenwood Estates Erosion Study\n",
      "Google project number is: DR1808 ---\n",
      "\tSDE data for budget 650000\n",
      "\tSDE data for project Upper Warden Creek Drainage Improvements\n",
      "Google project number is: DR1809 ---\n",
      "\tSDE data for budget 650000\n",
      "\tSDE data for project Finch Creek Drainage Improvements\n",
      "Google project number is: DR3251 ---\n",
      "\tSDE data for budget 18529\n",
      "\tSDE data for project Cottonwood Creek Unnamed Tributary Drainage Improvements\n",
      "Google project number is: DR5093 ---\n",
      "\tSDE data for budget 5792826\n",
      "\tSDE data for project NRCS Lake 4 Dam Rehabilitation\n",
      "Google project number is: FA4320 ---\n",
      "\tSDE data for budget 3600000\n",
      "\tSDE data for project Trinity Falls Parkway Construction\n",
      "Google project number is: ST1219 ---\n",
      "\tSDE data for budget 11886420\n",
      "\tSDE data for project Virginia Parkway Lanes 5 & 6 (Bellegrove - US 75)\n",
      "Google project number is: ST1231 ---\n",
      "\tSDE data for budget 4996254\n",
      "\tSDE data for project Virginia Parkway Lanes 5 & 6 (Ridge – Bellegrove)\n",
      "Google project number is: ST1612 ---\n",
      "\tSDE data for budget 2050000\n",
      "\tSDE data for project Redbud Blvd Lanes 3&4\n",
      "Google project number is: ST1613 ---\n",
      "\tSDE data for budget 850000\n",
      "\tSDE data for project McLarry Drive Improvements\n",
      "Google project number is: ST1615 ---\n",
      "\tSDE data for budget 298500\n",
      "\tSDE data for project US 380 and Airport Intersection Improvements\n",
      "Google project number is: ST1617 ---\n",
      "\tSDE data for budget 21331900\n",
      "\tSDE data for project Ridge Rd (US 380 - Wilmeth)\n",
      "Google project number is: ST1618 ---\n",
      "\tSDE data for budget 2836500\n",
      "\tSDE data for project Arterial Capacity Improvements FY18\n",
      "Google project number is: ST1622 ---\n",
      "\tSDE data for budget 4643730\n",
      "\tSDE data for project Street Rehabilitation Umbrella\n",
      "Google project number is: ST1649 ---\n",
      "\tSDE data for budget 2534057\n",
      "\tSDE data for project PROW ADA (Eastside)\n",
      "Google project number is: ST1719 ---\n",
      "\tSDE data for budget 1000000\n",
      "\tSDE data for project Wilmeth (Hardin to Lake Forest)\n",
      "Google project number is: ST1723 ---\n",
      "\tSDE data for budget 1600000\n",
      "\tSDE data for project Wilmeth (East of Redbud to SH 5)\n",
      "Google project number is: ST1834 ---\n",
      "\tSDE data for budget 1500000\n",
      "\tSDE data for project Accessibility Improvements (Eastside Phase 2)\n",
      "Google project number is: ST1835 ---\n",
      "\tSDE data for budget 4000000\n",
      "\tSDE data for project Arterial Capacity Improvements (FY19)\n",
      "Google project number is: ST1837 ---\n",
      "\tSDE data for budget 864706\n",
      "\tSDE data for project Stacy Rd at Custer Rd Intersection Improvements\n",
      "Google project number is: ST1838 ---\n",
      "\tSDE data for budget 500000\n",
      "\tSDE data for project Eldorado and Custer Intersection / Bridge Improvements\n",
      "Google project number is: ST1839 ---\n",
      "\tSDE data for budget 1800000\n",
      "\tSDE data for project Virginia Parkway Lanes 5 & 6 (Custer - Virginia Parklands)\n",
      "Google project number is: ST1841 ---\n",
      "\tSDE data for budget 1000000\n",
      "\tSDE data for project Collin McKinney Pkwy (Lake Forest - Hardin)\n",
      "Google project number is: ST3212 ---\n",
      "\tSDE data for budget 500000\n",
      "\tSDE data for project Stacy Rd Lanes 5 & 6 (Custer - Ridge)\n",
      "Google project number is: ST4227 ---\n",
      "\tSDE data for budget 11300000\n",
      "\tSDE data for project Bloomdale Road Extension - Community to Hardin\n",
      "Google project number is: ST4331 ---\n",
      "\tSDE data for budget 17400000\n",
      "\tSDE data for project Laud Howell Parkway \n",
      "Google project number is: ST4334 ---\n",
      "\tSDE data for budget 2500000\n",
      "\tSDE data for project Stonebridge Drive Bridge Replacement\n",
      "Google project number is: ST4372 ---\n",
      "\tSDE data for budget 1500000\n",
      "\tSDE data for project Country Lane Extension\n",
      "Google project number is: ST4375 ---\n",
      "\tSDE data for budget 1650000\n",
      "\tSDE data for project Development Catalyst Project\n",
      "Google project number is: ST4422 ---\n",
      "\tSDE data for budget 1600000\n",
      "\tSDE data for project Trinity Falls Parkway Link\n",
      "Google project number is: ST9115 ---\n",
      "\tSDE data for budget 4609824\n",
      "\tSDE data for project Custer Road Design & ROW (US 380 – FM 1461)\n",
      "Google project number is: TR1620 ---\n",
      "\tSDE data for budget 1092837\n",
      "\tSDE data for project FY 17 Traffic Signals\n",
      "Google project number is: TR1702 ---\n",
      "\tSDE data for budget 350000\n",
      "\tSDE data for project Custer & Silverado Traffic Signal Installation\n",
      "Google project number is: TR1843 ---\n",
      "\tSDE data for budget 434420\n",
      "\tSDE data for project Traffic Signalization (FY19)\n",
      "Google project number is: TR1844 ---\n",
      "\tSDE data for budget 200000\n",
      "\tSDE data for project Traffic Signalization (FY19) - RIF Zone G\n",
      "Google project number is: TR1845 ---\n",
      "\tSDE data for budget 500000\n",
      "\tSDE data for project Traffic Signalization (FY19) - RIF Zone H\n",
      "Google project number is: TR1846 ---\n",
      "\tSDE data for budget 400000\n",
      "\tSDE data for project Traffic Signalization (FY19) - RIF Zone I\n",
      "Google project number is: TR1847 ---\n",
      "\tSDE data for budget 150000\n",
      "\tSDE data for project US 380 Illumination (Coit - Custer)\n",
      "Google project number is: TR1849 ---\n",
      "\tSDE data for budget 400000\n",
      "\tSDE data for project Traffic Signal Detection Upgrades\n",
      "Google project number is: TR1850 ---\n",
      "\tSDE data for budget 100000\n",
      "\tSDE data for project Citywide Future Roundabout Planning & Evaluation\n",
      "Google project number is: TR4235 ---\n",
      "\tSDE data for budget 100000\n",
      "\tSDE data for project Traffic Signal Controller Upgrade\n",
      "Google project number is: WA1610 ---\n",
      "\tSDE data for budget 900000\n",
      "\tSDE data for project Service Line Replacement - Residential 10 Year\n",
      "Google project number is: WA1624 ---\n",
      "\tSDE data for budget 5670000\n",
      "\tSDE data for project Redbud Pump Station Transmission Line (794 PP)\n",
      "Google project number is: WA1625 ---\n",
      "\tSDE data for budget 1515000\n",
      "\tSDE data for project University Pump Station - 920 PP Pump\n",
      "Google project number is: WA1626 ---\n",
      "\tSDE data for budget 4725000\n",
      "\tSDE data for project McKinney Ranch Pump Station Improvements (Phase 1)\n",
      "Google project number is: WA1630 ---\n",
      "\tSDE data for budget 4700000\n",
      "\tSDE data for project Custer Road Utility Relocations (US380 to FM1461)\n",
      "Google project number is: WA1713 ---\n",
      "\tSDE data for budget 200000\n",
      "\tSDE data for project Miscellaneous Pump Station Improvements\n",
      "Google project number is: WA1805 ---\n",
      "\tSDE data for budget 1000000\n",
      "\tSDE data for project Virginia Elevated Storage Tank Maintenance\n",
      "Google project number is: WA1810 ---\n",
      "\tSDE data for budget 2471250\n",
      "\tSDE data for project NTMWD Meter Vault - Redbud Pump Station\n",
      "Google project number is: WA4202 ---\n",
      "\tSDE data for budget 220000\n",
      "\tSDE data for project Water Master Plan 2018\n",
      "Google project number is: WA4336 ---\n",
      "\tSDE data for budget 1056655\n",
      "\tSDE data for project Substandard Mains (Water)\n",
      "Google project number is: WA4337 ---\n",
      "\tSDE data for budget 300000\n",
      "\tSDE data for project Undesignated Oversize Participation (Water)\n",
      "Google project number is: WA4339 ---\n",
      "\tSDE data for budget 1300000\n",
      "\tSDE data for project Airport Boulevard Water Line - South Loop\n",
      "Google project number is: WA4340 ---\n",
      "\tSDE data for budget 8235000\n",
      "\tSDE data for project Redbud Pump Station Transmission Line (850 PP)\n",
      "Google project number is: WA4341 ---\n",
      "\tSDE data for budget 2000000\n",
      "\tSDE data for project FM 546 Water Line\n",
      "Google project number is: WA4371 ---\n",
      "\tSDE data for budget 300000\n",
      "\tSDE data for project WILLOWWOOD EASEMENT/ROW\n",
      "Google project number is: WA4415 ---\n",
      "\tSDE data for budget 4735000\n",
      "\tSDE data for project US 380 Water Line Improvements\n",
      "Google project number is: WA8132 ---\n",
      "\tSDE data for budget 25700000\n",
      "\tSDE data for project Redbud Pump Station Site Development\n",
      "Google project number is: WA9145 ---\n",
      "\tSDE data for budget 1045000\n",
      "\tSDE data for project Virginia Parkway Water Line Adjustments (Bellegrove - US 75)\n",
      "Google project number is: WW1638 ---\n",
      "\tSDE data for budget 1450000\n",
      "\tSDE data for project Honey Creek SS Trunk Main to MH-HC124\n",
      "Google project number is: WW1853 ---\n",
      "\tSDE data for budget 500000\n",
      "\tSDE data for project Lift Station Improvements\n",
      "Google project number is: WW1855 ---\n",
      "\tSDE data for budget 2428721\n",
      "\tSDE data for project Wastewater Main CIPP Lining\n",
      "\tSDE data for budget 2428721\n",
      "\tSDE data for project Wastewater Main CIPP Lining\n",
      "Google project number is: WW2245 ---\n",
      "\tSDE data for budget 504500\n",
      "\tSDE data for project Aerial Wastewater Crossing Improvements – Erwin Avenue\n",
      "Google project number is: WW4209 ---\n",
      "\tSDE data for budget 344000\n",
      "\tSDE data for project Wastewater Master Plan 2018\n",
      "Google project number is: WW4213 ---\n"
     ]
    },
    {
     "name": "stdout",
     "output_type": "stream",
     "text": [
      "\tSDE data for budget 3672697\n",
      "\tSDE data for project Oversize Participation Bloomdale (Stover Creek)\n",
      "Google project number is: WW4239 ---\n",
      "\tSDE data for budget 1970000\n",
      "\tSDE data for project Oversize Participation Gravity Sewer Main from Lift Station H\n",
      "Google project number is: WW4348 ---\n",
      "\tSDE data for budget 400000\n",
      "\tSDE data for project Aerial Wastewater Crossing Improvements\n",
      "Google project number is: WW4350 ---\n",
      "\tSDE data for budget 0\n",
      "\tSDE data for project Substandard Mains (Wastewater)\n",
      "Google project number is: WW4351 ---\n",
      "\tSDE data for budget 600000\n",
      "\tSDE data for project Sanitary Sewer Evaluation Survey (SSES)\n",
      "Google project number is: WW4354 ---\n",
      "\tSDE data for budget 300000\n",
      "\tSDE data for project Undesignated Oversize Participation (Wastewater)\n",
      "Google project number is: WW4404 ---\n",
      "\tSDE data for budget 557470\n",
      "\tSDE data for project Sanitary Sewer Condition Assessments\n"
     ]
    }
   ],
   "source": [
    "updatefields_google = [\"Project_No\", \"Project_Name\", \"Project_Funding\"] #fields in table\n",
    "updatefields_sde = [\"CIPProjectNumber\", \"ProjectName\", \"ProjectBudget\"] #fields in SDE\n",
    "arcpy.env.workspace = EditSDE_Carmona\n",
    "edit = arcpy.da.Editor(EditSDE_Carmona)\n",
    "edit.startEditing(True, True)\n",
    "\n",
    "with arcpy.da.SearchCursor(googletable, updatefields_google) as scursor:\n",
    "    for srow in scursor:\n",
    "        print(f\"Google project number is: {srow[0]} ---\")\n",
    "        update_query = f\"CIPProjectNumber = '{srow[0]}'\"\n",
    "        ucursor = arcpy.da.UpdateCursor(sde_CIP1923, updatefields_sde, update_query)\n",
    "        edit.startOperation()\n",
    "        for urow in ucursor:\n",
    "            print(f\"\\tSDE data for budget {urow[2]}\")\n",
    "            print(f\"\\tSDE data for project {urow[1]}\")\n",
    "        edit.stopOperation()\n",
    "edit.stopEditing(True)"
   ]
  },
  {
   "cell_type": "markdown",
   "metadata": {
    "slideshow": {
     "slide_type": "subslide"
    }
   },
   "source": [
    "Within the actual script, this nested pattern has three update cursors in sequence"
   ]
  },
  {
   "cell_type": "markdown",
   "metadata": {
    "slideshow": {
     "slide_type": "fragment"
    }
   },
   "source": [
    "Allowing us to update three layers share similar records but differ in geometry type"
   ]
  },
  {
   "cell_type": "code",
   "execution_count": 1,
   "metadata": {
    "slideshow": {
     "slide_type": "subslide"
    }
   },
   "outputs": [
    {
     "ename": "NameError",
     "evalue": "name 'arcpy' is not defined",
     "output_type": "error",
     "traceback": [
      "\u001b[1;31m---------------------------------------------------------------------------\u001b[0m",
      "\u001b[1;31mNameError\u001b[0m                                 Traceback (most recent call last)",
      "\u001b[1;32m<ipython-input-1-bf51f2f8c090>\u001b[0m in \u001b[0;36m<module>\u001b[1;34m()\u001b[0m\n\u001b[0;32m      1\u001b[0m \u001b[0mcounter\u001b[0m \u001b[1;33m=\u001b[0m\u001b[1;36m1\u001b[0m\u001b[1;33m\u001b[0m\u001b[0m\n\u001b[1;32m----> 2\u001b[1;33m \u001b[1;32mwith\u001b[0m \u001b[0marcpy\u001b[0m\u001b[1;33m.\u001b[0m\u001b[0mda\u001b[0m\u001b[1;33m.\u001b[0m\u001b[0mSearchCursor\u001b[0m\u001b[1;33m(\u001b[0m\u001b[0mgoogletable\u001b[0m\u001b[1;33m,\u001b[0m \u001b[0mupdatefields_google\u001b[0m\u001b[1;33m)\u001b[0m \u001b[1;32mas\u001b[0m \u001b[0mscursor\u001b[0m\u001b[1;33m:\u001b[0m\u001b[1;33m\u001b[0m\u001b[0m\n\u001b[0m\u001b[0;32m      3\u001b[0m         \u001b[1;32mfor\u001b[0m \u001b[0msrow\u001b[0m \u001b[1;32min\u001b[0m \u001b[0mscursor\u001b[0m\u001b[1;33m:\u001b[0m\u001b[1;33m\u001b[0m\u001b[0m\n\u001b[0;32m      4\u001b[0m                 \u001b[0mupdate_query\u001b[0m \u001b[1;33m=\u001b[0m \u001b[1;34mf\"CIPProjectNumber = '{srow[0]}'\"\u001b[0m\u001b[1;33m\u001b[0m\u001b[0m\n\u001b[0;32m      5\u001b[0m                 \u001b[0mprint\u001b[0m\u001b[1;33m(\u001b[0m\u001b[1;34mf\"\\tCIP Project {srow[0]}, {counter-1} edits pending\"\u001b[0m\u001b[1;33m)\u001b[0m\u001b[1;33m\u001b[0m\u001b[0m\n",
      "\u001b[1;31mNameError\u001b[0m: name 'arcpy' is not defined"
     ]
    }
   ],
   "source": [
    "counter =1\n",
    "with arcpy.da.SearchCursor(googletable, updatefields_google) as scursor:\n",
    "\tfor srow in scursor:\n",
    "\t\tupdate_query = f\"CIPProjectNumber = '{srow[0]}'\"\n",
    "\t\tprint(f\"\\tCIP Project {srow[0]}, {counter-1} edits pending\")\n",
    "\t\tucursor = arcpy.da.UpdateCursor(sde_CIP1923, updatefields_sde, update_query)\n",
    "\t\tedit.startOperation()\n",
    "\t\tfor urow in ucursor:\n",
    "\t\t\turow[1] = srow[1]\n",
    "\t\t\turow[2] = srow[2]\n",
    "\t\t\turow[3] = srow[3]\n",
    "\t\t\turow[4] = srow[4]\n",
    "\t\t\turow[6] = srow[6]\n",
    "\t\t\turow[7] = srow[7]\n",
    "\t\t\tif (\n",
    "\t\t\t\turow[9] != srow[9] or\n",
    "\t\t\t\turow[5] != srow[5]\n",
    "\t\t\t):\n",
    "\t\t\t\turow[10] = datetime.date.today()\n",
    "\t\t\turow[5] = srow[5]\n",
    "\t\t\turow[9] = srow[9]\n",
    "\t\t\tucursor.updateRow(urow)\n",
    "\t\t\tcounter += 1\n",
    "\t\tedit.stopOperation()"
   ]
  },
  {
   "cell_type": "code",
   "execution_count": null,
   "metadata": {
    "slideshow": {
     "slide_type": "subslide"
    }
   },
   "outputs": [],
   "source": [
    "counter = 1\n",
    "with arcpy.da.SearchCursor(googletable, updatefields_google) as scursor:\n",
    "\tfor srow in scursor:\n",
    "\t\tupdate_query = f\"CIPProjectNumber = '{srow[0]}'\"\n",
    "\t\tprint(f\"\\tCIP Project {srow[0]}, {counter-1} edits pending\")\n",
    "\t\tucursor = arcpy.da.UpdateCursor(sde_CIPFY1923, updatefields_sde, update_query)\n",
    "\t\tedit.startOperation()\n",
    "\t\tfor urow in ucursor:\n",
    "\t\t\turow[1] = srow[1]\n",
    "\t\t\turow[2] = srow[2]\n",
    "\t\t\turow[3] = srow[3]\n",
    "\t\t\turow[4] = srow[4]\n",
    "\t\t\turow[6] = srow[6]\n",
    "\t\t\turow[7] = srow[7]\n",
    "\t\t\tif (\n",
    "\t\t\t\turow[9] != srow[9] or\n",
    "\t\t\t\turow[5] != srow[5]\n",
    "\t\t\t):\n",
    "\t\t\t\turow[10] = datetime.date.today()\n",
    "\t\t\turow[5] = srow[5]\n",
    "\t\t\turow[9] = srow[9]\n",
    "\t\t\tucursor.updateRow(urow)\n",
    "\t\t\tcounter += 1\n",
    "\t\tedit.stopOperation()"
   ]
  },
  {
   "cell_type": "code",
   "execution_count": null,
   "metadata": {
    "slideshow": {
     "slide_type": "subslide"
    }
   },
   "outputs": [],
   "source": [
    "counter = 1\n",
    "with arcpy.da.SearchCursor(googletable, updatefields_google) as scursor:\n",
    "\tfor srow in scursor:\n",
    "\t\tupdate_query = f\"CIPProjectNumber = '{srow[0]}'\"\n",
    "\t\tprint(f\"\\tCIP Project {srow[0]}, {counter-1} edits pending\")\n",
    "\t\tucursor = arcpy.da.UpdateCursor(sde_CIP1923_Point, updatefields_sde, update_query)\n",
    "\t\tedit.startOperation()\n",
    "\t\tfor urow in ucursor:\n",
    "\t\t\turow[1] = srow[1]\n",
    "\t\t\turow[2] = srow[2]\n",
    "\t\t\turow[3] = srow[3]\n",
    "\t\t\turow[4] = srow[4]\n",
    "\t\t\turow[6] = srow[6]\n",
    "\t\t\turow[7] = srow[7]\n",
    "\t\t\tif (\n",
    "\t\t\t\turow[9] != srow[9] or\n",
    "\t\t\t\turow[5] != srow[5]\n",
    "\t\t\t):\n",
    "\t\t\t\turow[10] = datetime.date.today()\n",
    "\t\t\turow[5] = srow[5]\n",
    "\t\t\turow[9] = srow[9]\n",
    "\t\t\tucursor.updateRow(urow)\n",
    "\t\t\tcounter += 1\n",
    "\t\tedit.stopOperation()\n",
    "\n",
    "print(\"Editing loops complete for CIP layers.\")\n",
    "print(f\"Editing environment active: {edit.isEditing}\")\n",
    "edit.stopEditing(True)\n",
    "print(\"Edits saved.\")\n",
    "print(f\"Editing environment active: {edit.isEditing}\")\n",
    "arcpy.ReconcileVersions_management(EditSDE, \"ALL_VERSIONS\", \"sde.DEFAULT\", r'CarmonaVersion', \"LOCK_ACQUIRED\", \n",
    "                                   \"NO_ABORT\", \"BY_OBJECT\", \"FAVOR_TARGET_VERSION\", \"POST\", \"KEEP_VERSION\", None, \"PROCEED\")\n",
    "print(\"Version has reconciled and posted to Default.\")"
   ]
  },
  {
   "cell_type": "code",
   "execution_count": null,
   "metadata": {
    "slideshow": {
     "slide_type": "subslide"
    }
   },
   "outputs": [],
   "source": [
    "print(\"Editing loops complete for CIP layers.\")\n",
    "print(f\"Editing environment active: {edit.isEditing}\")\n",
    "edit.stopEditing(True)\n",
    "print(\"Edits saved.\")\n",
    "print(f\"Editing environment active: {edit.isEditing}\")\n",
    "arcpy.ReconcileVersions_management(EditSDE, \"ALL_VERSIONS\", \"sde.DEFAULT\", r'CarmonaVersion', \"LOCK_ACQUIRED\", \n",
    "                                   \"NO_ABORT\", \"BY_OBJECT\", \"FAVOR_TARGET_VERSION\", \"POST\", \"KEEP_VERSION\", None, \"PROCEED\")\n",
    "print(\"Version has reconciled and posted to Default.\")"
   ]
  },
  {
   "cell_type": "markdown",
   "metadata": {
    "slideshow": {
     "slide_type": "slide"
    }
   },
   "source": [
    "# <center> <h1 style=\"font-family:Brush Script MT, Brush Script Std, cursive\">Fin"
   ]
  },
  {
   "cell_type": "markdown",
   "metadata": {
    "slideshow": {
     "slide_type": "fragment"
    }
   },
   "source": [
    "## <center>Jordan Carmona, GISP"
   ]
  },
  {
   "cell_type": "markdown",
   "metadata": {
    "slideshow": {
     "slide_type": "fragment"
    }
   },
   "source": [
    "#### <br>\n",
    "#### <center> jcarmona@mckinneytexas.org\n",
    "#### <center> linkedin/in/jordancarmona"
   ]
  }
 ],
 "metadata": {
  "celltoolbar": "Slideshow",
  "kernelspec": {
   "display_name": "Python 3",
   "language": "python",
   "name": "python3"
  },
  "language_info": {
   "codemirror_mode": {
    "name": "ipython",
    "version": 3
   },
   "file_extension": ".py",
   "mimetype": "text/x-python",
   "name": "python",
   "nbconvert_exporter": "python",
   "pygments_lexer": "ipython3",
   "version": "3.6.6"
  }
 },
 "nbformat": 4,
 "nbformat_minor": 2
}
